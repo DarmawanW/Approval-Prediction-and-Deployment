{
 "cells": [
  {
   "cell_type": "markdown",
   "source": [
    "# Milestone 2\r\n",
    "## i. Introduction\r\n",
    "Nama : Darmawan Wijaya </br>\r\n",
    "Kelas : FTDS - 002 </br>\r\n",
    "Obyektif : Mengaplikasikan konsep Supervised Learning untuk memprediksi approval dari proposal pengajuan kredit"
   ],
   "metadata": {}
  },
  {
   "cell_type": "markdown",
   "source": [
    "## ii. Import Pustaka\r\n",
    "Pustaka yang digunakan pada proyek ini adalah:</br>\r\n",
    "1. Numpy\r\n",
    "2. Pandas\r\n",
    "3. Scikit Learn\r\n",
    "4. Matplotlib\r\n",
    "5. Seaborn"
   ],
   "metadata": {}
  },
  {
   "cell_type": "code",
   "execution_count": 1,
   "source": [
    "#Proses import dari pustaka yang digunakan\r\n",
    "import pandas as pd\r\n",
    "import numpy as np\r\n",
    "import matplotlib as mpl\r\n",
    "import matplotlib.pyplot as plt\r\n",
    "import seaborn as sns\r\n",
    "import os\r\n",
    "import pickle\r\n",
    "\r\n",
    "from sklearn.model_selection import train_test_split\r\n",
    "from sklearn.preprocessing import StandardScaler\r\n",
    "from sklearn.linear_model import LogisticRegression\r\n",
    "from sklearn.svm import SVC\r\n",
    "from sklearn.tree import DecisionTreeClassifier\r\n",
    "from sklearn.ensemble import RandomForestClassifier\r\n",
    "from sklearn.neighbors import KNeighborsClassifier\r\n",
    "from sklearn.ensemble import GradientBoostingClassifier\r\n",
    "import xgboost as xgb\r\n",
    "from sklearn.metrics import accuracy_score, confusion_matrix, classification_report, f1_score\r\n",
    "from sklearn.model_selection import GridSearchCV\r\n",
    "from sklearn.pipeline import Pipeline\r\n",
    "from sklearn.preprocessing import OneHotEncoder\r\n",
    "import joblib\r\n",
    "\r\n",
    "#Kode tambahan untuk menampilkan angka desimal maksimal 5 angka dibelakang koma sehingga angka lebih mudah dipahami\r\n",
    "pd.set_option('display.float_format', lambda x: '%.5f' % x)\r\n",
    "\r\n",
    "# Ignore useless warnings (see SciPy issue #5998)\r\n",
    "import warnings\r\n",
    "warnings.filterwarnings(action=\"ignore\", message=\"^internal gelsd\")"
   ],
   "outputs": [],
   "metadata": {}
  },
  {
   "cell_type": "markdown",
   "source": [
    "## iii. Data Loading\r\n",
    "Data yang digunakan adalah data pengajuan pinjaman konsumer yang berisikan: </br>\r\n",
    "1. Pendapatan\r\n",
    "2. Umur\r\n",
    "3. Lama bekerja \r\n",
    "4. Status Pernikahan\r\n",
    "5. Jumlah tanggungan\r\n",
    "6. Nominal Pengajuan\r\n",
    "7. Pendidikan\r\n",
    "8. Status pengajuan\r\n",
    "9. Dan parameter-parameter lainnya</br>\r\n",
    "\r\n",
    "Data tersebut dapat diunduh pada : https://www.kaggle.com/vipin20/loan-application-data\r\n"
   ],
   "metadata": {}
  },
  {
   "cell_type": "code",
   "execution_count": 2,
   "source": [
    "#Proses Loading Data\r\n",
    "df = pd.read_csv(\"df1_loan.csv\")\r\n",
    "df.info()"
   ],
   "outputs": [
    {
     "output_type": "stream",
     "name": "stdout",
     "text": [
      "<class 'pandas.core.frame.DataFrame'>\n",
      "RangeIndex: 500 entries, 0 to 499\n",
      "Data columns (total 15 columns):\n",
      " #   Column             Non-Null Count  Dtype  \n",
      "---  ------             --------------  -----  \n",
      " 0   Unnamed: 0         500 non-null    int64  \n",
      " 1   Loan_ID            500 non-null    object \n",
      " 2   Gender             491 non-null    object \n",
      " 3   Married            497 non-null    object \n",
      " 4   Dependents         488 non-null    object \n",
      " 5   Education          500 non-null    object \n",
      " 6   Self_Employed      473 non-null    object \n",
      " 7   ApplicantIncome    500 non-null    int64  \n",
      " 8   CoapplicantIncome  500 non-null    float64\n",
      " 9   LoanAmount         482 non-null    float64\n",
      " 10  Loan_Amount_Term   486 non-null    float64\n",
      " 11  Credit_History     459 non-null    float64\n",
      " 12  Property_Area      500 non-null    object \n",
      " 13  Loan_Status        500 non-null    object \n",
      " 14  Total_Income       500 non-null    object \n",
      "dtypes: float64(4), int64(2), object(9)\n",
      "memory usage: 58.7+ KB\n"
     ]
    }
   ],
   "metadata": {}
  },
  {
   "cell_type": "code",
   "execution_count": 3,
   "source": [
    "df.head()"
   ],
   "outputs": [
    {
     "output_type": "execute_result",
     "data": {
      "text/html": [
       "<div>\n",
       "<style scoped>\n",
       "    .dataframe tbody tr th:only-of-type {\n",
       "        vertical-align: middle;\n",
       "    }\n",
       "\n",
       "    .dataframe tbody tr th {\n",
       "        vertical-align: top;\n",
       "    }\n",
       "\n",
       "    .dataframe thead th {\n",
       "        text-align: right;\n",
       "    }\n",
       "</style>\n",
       "<table border=\"1\" class=\"dataframe\">\n",
       "  <thead>\n",
       "    <tr style=\"text-align: right;\">\n",
       "      <th></th>\n",
       "      <th>Unnamed: 0</th>\n",
       "      <th>Loan_ID</th>\n",
       "      <th>Gender</th>\n",
       "      <th>Married</th>\n",
       "      <th>Dependents</th>\n",
       "      <th>Education</th>\n",
       "      <th>Self_Employed</th>\n",
       "      <th>ApplicantIncome</th>\n",
       "      <th>CoapplicantIncome</th>\n",
       "      <th>LoanAmount</th>\n",
       "      <th>Loan_Amount_Term</th>\n",
       "      <th>Credit_History</th>\n",
       "      <th>Property_Area</th>\n",
       "      <th>Loan_Status</th>\n",
       "      <th>Total_Income</th>\n",
       "    </tr>\n",
       "  </thead>\n",
       "  <tbody>\n",
       "    <tr>\n",
       "      <th>0</th>\n",
       "      <td>0</td>\n",
       "      <td>LP001002</td>\n",
       "      <td>Male</td>\n",
       "      <td>No</td>\n",
       "      <td>0</td>\n",
       "      <td>Graduate</td>\n",
       "      <td>No</td>\n",
       "      <td>5849</td>\n",
       "      <td>0.00000</td>\n",
       "      <td>NaN</td>\n",
       "      <td>360.00000</td>\n",
       "      <td>1.00000</td>\n",
       "      <td>Urban</td>\n",
       "      <td>Y</td>\n",
       "      <td>$5849.0</td>\n",
       "    </tr>\n",
       "    <tr>\n",
       "      <th>1</th>\n",
       "      <td>1</td>\n",
       "      <td>LP001003</td>\n",
       "      <td>Male</td>\n",
       "      <td>Yes</td>\n",
       "      <td>1</td>\n",
       "      <td>Graduate</td>\n",
       "      <td>No</td>\n",
       "      <td>4583</td>\n",
       "      <td>1508.00000</td>\n",
       "      <td>128.00000</td>\n",
       "      <td>360.00000</td>\n",
       "      <td>1.00000</td>\n",
       "      <td>Rural</td>\n",
       "      <td>N</td>\n",
       "      <td>$6091.0</td>\n",
       "    </tr>\n",
       "    <tr>\n",
       "      <th>2</th>\n",
       "      <td>2</td>\n",
       "      <td>LP001005</td>\n",
       "      <td>Male</td>\n",
       "      <td>Yes</td>\n",
       "      <td>0</td>\n",
       "      <td>Graduate</td>\n",
       "      <td>Yes</td>\n",
       "      <td>3000</td>\n",
       "      <td>0.00000</td>\n",
       "      <td>66.00000</td>\n",
       "      <td>360.00000</td>\n",
       "      <td>1.00000</td>\n",
       "      <td>Urban</td>\n",
       "      <td>Y</td>\n",
       "      <td>$3000.0</td>\n",
       "    </tr>\n",
       "    <tr>\n",
       "      <th>3</th>\n",
       "      <td>3</td>\n",
       "      <td>LP001006</td>\n",
       "      <td>Male</td>\n",
       "      <td>Yes</td>\n",
       "      <td>0</td>\n",
       "      <td>Not Graduate</td>\n",
       "      <td>No</td>\n",
       "      <td>2583</td>\n",
       "      <td>2358.00000</td>\n",
       "      <td>120.00000</td>\n",
       "      <td>360.00000</td>\n",
       "      <td>1.00000</td>\n",
       "      <td>Urban</td>\n",
       "      <td>Y</td>\n",
       "      <td>$4941.0</td>\n",
       "    </tr>\n",
       "    <tr>\n",
       "      <th>4</th>\n",
       "      <td>4</td>\n",
       "      <td>LP001008</td>\n",
       "      <td>Male</td>\n",
       "      <td>No</td>\n",
       "      <td>0</td>\n",
       "      <td>Graduate</td>\n",
       "      <td>No</td>\n",
       "      <td>6000</td>\n",
       "      <td>0.00000</td>\n",
       "      <td>141.00000</td>\n",
       "      <td>360.00000</td>\n",
       "      <td>1.00000</td>\n",
       "      <td>Urban</td>\n",
       "      <td>Y</td>\n",
       "      <td>$6000.0</td>\n",
       "    </tr>\n",
       "  </tbody>\n",
       "</table>\n",
       "</div>"
      ],
      "text/plain": [
       "   Unnamed: 0   Loan_ID Gender Married Dependents     Education Self_Employed  \\\n",
       "0           0  LP001002   Male      No          0      Graduate            No   \n",
       "1           1  LP001003   Male     Yes          1      Graduate            No   \n",
       "2           2  LP001005   Male     Yes          0      Graduate           Yes   \n",
       "3           3  LP001006   Male     Yes          0  Not Graduate            No   \n",
       "4           4  LP001008   Male      No          0      Graduate            No   \n",
       "\n",
       "   ApplicantIncome  CoapplicantIncome  LoanAmount  Loan_Amount_Term  \\\n",
       "0             5849            0.00000         NaN         360.00000   \n",
       "1             4583         1508.00000   128.00000         360.00000   \n",
       "2             3000            0.00000    66.00000         360.00000   \n",
       "3             2583         2358.00000   120.00000         360.00000   \n",
       "4             6000            0.00000   141.00000         360.00000   \n",
       "\n",
       "   Credit_History Property_Area Loan_Status Total_Income  \n",
       "0         1.00000         Urban           Y      $5849.0  \n",
       "1         1.00000         Rural           N      $6091.0  \n",
       "2         1.00000         Urban           Y      $3000.0  \n",
       "3         1.00000         Urban           Y      $4941.0  \n",
       "4         1.00000         Urban           Y      $6000.0  "
      ]
     },
     "metadata": {},
     "execution_count": 3
    }
   ],
   "metadata": {}
  },
  {
   "cell_type": "markdown",
   "source": [
    "## iv. Data Cleaning\r\n",
    "Data cleaning adalah proses penyiapan data sebelum dilakukan eksplorasi dan pengolahan data lebih lanjut. </br>\r\n",
    "Proses data cleaning yang digunakan pada proyek ini adalah: </br>\r\n",
    "1. Pengecekan Data Duplikat\r\n",
    "2. Pengecekan Missing Values"
   ],
   "metadata": {}
  },
  {
   "cell_type": "code",
   "execution_count": 4,
   "source": [
    "#Proses Pengecekan Data Duplikat\r\n",
    "duplicate = df[df.duplicated()]\r\n",
    "duplicate"
   ],
   "outputs": [
    {
     "output_type": "execute_result",
     "data": {
      "text/html": [
       "<div>\n",
       "<style scoped>\n",
       "    .dataframe tbody tr th:only-of-type {\n",
       "        vertical-align: middle;\n",
       "    }\n",
       "\n",
       "    .dataframe tbody tr th {\n",
       "        vertical-align: top;\n",
       "    }\n",
       "\n",
       "    .dataframe thead th {\n",
       "        text-align: right;\n",
       "    }\n",
       "</style>\n",
       "<table border=\"1\" class=\"dataframe\">\n",
       "  <thead>\n",
       "    <tr style=\"text-align: right;\">\n",
       "      <th></th>\n",
       "      <th>Unnamed: 0</th>\n",
       "      <th>Loan_ID</th>\n",
       "      <th>Gender</th>\n",
       "      <th>Married</th>\n",
       "      <th>Dependents</th>\n",
       "      <th>Education</th>\n",
       "      <th>Self_Employed</th>\n",
       "      <th>ApplicantIncome</th>\n",
       "      <th>CoapplicantIncome</th>\n",
       "      <th>LoanAmount</th>\n",
       "      <th>Loan_Amount_Term</th>\n",
       "      <th>Credit_History</th>\n",
       "      <th>Property_Area</th>\n",
       "      <th>Loan_Status</th>\n",
       "      <th>Total_Income</th>\n",
       "    </tr>\n",
       "  </thead>\n",
       "  <tbody>\n",
       "  </tbody>\n",
       "</table>\n",
       "</div>"
      ],
      "text/plain": [
       "Empty DataFrame\n",
       "Columns: [Unnamed: 0, Loan_ID, Gender, Married, Dependents, Education, Self_Employed, ApplicantIncome, CoapplicantIncome, LoanAmount, Loan_Amount_Term, Credit_History, Property_Area, Loan_Status, Total_Income]\n",
       "Index: []"
      ]
     },
     "metadata": {},
     "execution_count": 4
    }
   ],
   "metadata": {}
  },
  {
   "cell_type": "code",
   "execution_count": 5,
   "source": [
    "#Pengecekan data missing values\r\n",
    "df.isnull().sum()"
   ],
   "outputs": [
    {
     "output_type": "execute_result",
     "data": {
      "text/plain": [
       "Unnamed: 0            0\n",
       "Loan_ID               0\n",
       "Gender                9\n",
       "Married               3\n",
       "Dependents           12\n",
       "Education             0\n",
       "Self_Employed        27\n",
       "ApplicantIncome       0\n",
       "CoapplicantIncome     0\n",
       "LoanAmount           18\n",
       "Loan_Amount_Term     14\n",
       "Credit_History       41\n",
       "Property_Area         0\n",
       "Loan_Status           0\n",
       "Total_Income          0\n",
       "dtype: int64"
      ]
     },
     "metadata": {},
     "execution_count": 5
    }
   ],
   "metadata": {}
  },
  {
   "cell_type": "markdown",
   "source": [
    "Dari perhitungan diatas, didapatkan bahwa terdapat missing data pada kolom: </br>\r\n",
    "1. Gender sebanyak 9 data\r\n",
    "2. Married sebanyak 3 data\r\n",
    "3. Dependents sebanyak 12 data\r\n",
    "4. Self-Employed sebanyak 27 data\r\n",
    "5. Loan Ammount sebanyak 18 data\r\n",
    "6. Loan Ammount Term sebanyak 14 data\r\n",
    "7. Credit History sebanyak 41 data\r\n",
    "\r\n",
    "Untuk missing values dengan jenis kategorikal akan kami lakukan imputasi berdasarkan modus. </br>\r\n",
    "Untuk missing values dengan jenis numerikal akan kami lakukan imputasi berdasarkan median. </br>\r\n",
    "Kami juga akan melakukan penghapusan kolom Unamed:0."
   ],
   "metadata": {}
  },
  {
   "cell_type": "code",
   "execution_count": 6,
   "source": [
    "df.Loan_Amount_Term.unique()"
   ],
   "outputs": [
    {
     "output_type": "execute_result",
     "data": {
      "text/plain": [
       "array([360., 120., 240.,  nan, 180.,  60., 300., 480.,  36.,  84.,  12.])"
      ]
     },
     "metadata": {},
     "execution_count": 6
    }
   ],
   "metadata": {}
  },
  {
   "cell_type": "code",
   "execution_count": 7,
   "source": [
    "df_cleaned = df.copy()\r\n",
    "df_cleaned['Gender'].fillna(df_cleaned['Gender'].mode()[0],inplace=True)\r\n",
    "df_cleaned['Married'].fillna(df_cleaned['Married'].mode()[0],inplace=True)\r\n",
    "df_cleaned['Dependents'].fillna(df_cleaned['Dependents'].mode()[0],inplace=True)\r\n",
    "df_cleaned['Self_Employed'].fillna(df_cleaned['Self_Employed'].mode()[0],inplace=True)\r\n",
    "df_cleaned['Loan_Amount_Term'].fillna(df_cleaned['Loan_Amount_Term'].mode()[0],inplace=True)\r\n",
    "df_cleaned['Credit_History'].fillna(df_cleaned['Credit_History'].mode()[0],inplace=True)\r\n",
    "df_cleaned['LoanAmount'].fillna(df_cleaned['LoanAmount'].mean(),inplace=True)\r\n",
    "df_cleaned.drop(columns=['Unnamed: 0','Loan_ID'], inplace=True)"
   ],
   "outputs": [],
   "metadata": {}
  },
  {
   "cell_type": "code",
   "execution_count": 8,
   "source": [
    "#Melakukan perubahan tipe data pada Total Income dan Dependents\r\n",
    "df_cleaned['Total_Income']=df_cleaned['Total_Income'].str.replace('$','')\r\n",
    "df_cleaned['Dependents']=df_cleaned['Dependents'].str.replace('+','')\r\n",
    "df_cleaned[\"Dependents\"]=df_cleaned[\"Dependents\"].apply(pd.to_numeric)\r\n",
    "df_cleaned[\"Total_Income\"]=df_cleaned[\"Total_Income\"].apply(pd.to_numeric)\r\n"
   ],
   "outputs": [
    {
     "output_type": "stream",
     "name": "stderr",
     "text": [
      "<ipython-input-8-dc125ce34096>:2: FutureWarning: The default value of regex will change from True to False in a future version. In addition, single character regular expressions will*not* be treated as literal strings when regex=True.\n",
      "  df_cleaned['Total_Income']=df_cleaned['Total_Income'].str.replace('$','')\n",
      "<ipython-input-8-dc125ce34096>:3: FutureWarning: The default value of regex will change from True to False in a future version. In addition, single character regular expressions will*not* be treated as literal strings when regex=True.\n",
      "  df_cleaned['Dependents']=df_cleaned['Dependents'].str.replace('+','')\n"
     ]
    }
   ],
   "metadata": {}
  },
  {
   "cell_type": "markdown",
   "source": [
    "## v. Data Exploration"
   ],
   "metadata": {}
  },
  {
   "cell_type": "code",
   "execution_count": 9,
   "source": [
    "df_cleaned.info()"
   ],
   "outputs": [
    {
     "output_type": "stream",
     "name": "stdout",
     "text": [
      "<class 'pandas.core.frame.DataFrame'>\n",
      "RangeIndex: 500 entries, 0 to 499\n",
      "Data columns (total 13 columns):\n",
      " #   Column             Non-Null Count  Dtype  \n",
      "---  ------             --------------  -----  \n",
      " 0   Gender             500 non-null    object \n",
      " 1   Married            500 non-null    object \n",
      " 2   Dependents         500 non-null    int64  \n",
      " 3   Education          500 non-null    object \n",
      " 4   Self_Employed      500 non-null    object \n",
      " 5   ApplicantIncome    500 non-null    int64  \n",
      " 6   CoapplicantIncome  500 non-null    float64\n",
      " 7   LoanAmount         500 non-null    float64\n",
      " 8   Loan_Amount_Term   500 non-null    float64\n",
      " 9   Credit_History     500 non-null    float64\n",
      " 10  Property_Area      500 non-null    object \n",
      " 11  Loan_Status        500 non-null    object \n",
      " 12  Total_Income       500 non-null    float64\n",
      "dtypes: float64(5), int64(2), object(6)\n",
      "memory usage: 50.9+ KB\n"
     ]
    }
   ],
   "metadata": {}
  },
  {
   "cell_type": "code",
   "execution_count": 10,
   "source": [
    "df_cleaned.head()"
   ],
   "outputs": [
    {
     "output_type": "execute_result",
     "data": {
      "text/html": [
       "<div>\n",
       "<style scoped>\n",
       "    .dataframe tbody tr th:only-of-type {\n",
       "        vertical-align: middle;\n",
       "    }\n",
       "\n",
       "    .dataframe tbody tr th {\n",
       "        vertical-align: top;\n",
       "    }\n",
       "\n",
       "    .dataframe thead th {\n",
       "        text-align: right;\n",
       "    }\n",
       "</style>\n",
       "<table border=\"1\" class=\"dataframe\">\n",
       "  <thead>\n",
       "    <tr style=\"text-align: right;\">\n",
       "      <th></th>\n",
       "      <th>Gender</th>\n",
       "      <th>Married</th>\n",
       "      <th>Dependents</th>\n",
       "      <th>Education</th>\n",
       "      <th>Self_Employed</th>\n",
       "      <th>ApplicantIncome</th>\n",
       "      <th>CoapplicantIncome</th>\n",
       "      <th>LoanAmount</th>\n",
       "      <th>Loan_Amount_Term</th>\n",
       "      <th>Credit_History</th>\n",
       "      <th>Property_Area</th>\n",
       "      <th>Loan_Status</th>\n",
       "      <th>Total_Income</th>\n",
       "    </tr>\n",
       "  </thead>\n",
       "  <tbody>\n",
       "    <tr>\n",
       "      <th>0</th>\n",
       "      <td>Male</td>\n",
       "      <td>No</td>\n",
       "      <td>0</td>\n",
       "      <td>Graduate</td>\n",
       "      <td>No</td>\n",
       "      <td>5849</td>\n",
       "      <td>0.00000</td>\n",
       "      <td>144.02075</td>\n",
       "      <td>360.00000</td>\n",
       "      <td>1.00000</td>\n",
       "      <td>Urban</td>\n",
       "      <td>Y</td>\n",
       "      <td>5849.00000</td>\n",
       "    </tr>\n",
       "    <tr>\n",
       "      <th>1</th>\n",
       "      <td>Male</td>\n",
       "      <td>Yes</td>\n",
       "      <td>1</td>\n",
       "      <td>Graduate</td>\n",
       "      <td>No</td>\n",
       "      <td>4583</td>\n",
       "      <td>1508.00000</td>\n",
       "      <td>128.00000</td>\n",
       "      <td>360.00000</td>\n",
       "      <td>1.00000</td>\n",
       "      <td>Rural</td>\n",
       "      <td>N</td>\n",
       "      <td>6091.00000</td>\n",
       "    </tr>\n",
       "    <tr>\n",
       "      <th>2</th>\n",
       "      <td>Male</td>\n",
       "      <td>Yes</td>\n",
       "      <td>0</td>\n",
       "      <td>Graduate</td>\n",
       "      <td>Yes</td>\n",
       "      <td>3000</td>\n",
       "      <td>0.00000</td>\n",
       "      <td>66.00000</td>\n",
       "      <td>360.00000</td>\n",
       "      <td>1.00000</td>\n",
       "      <td>Urban</td>\n",
       "      <td>Y</td>\n",
       "      <td>3000.00000</td>\n",
       "    </tr>\n",
       "    <tr>\n",
       "      <th>3</th>\n",
       "      <td>Male</td>\n",
       "      <td>Yes</td>\n",
       "      <td>0</td>\n",
       "      <td>Not Graduate</td>\n",
       "      <td>No</td>\n",
       "      <td>2583</td>\n",
       "      <td>2358.00000</td>\n",
       "      <td>120.00000</td>\n",
       "      <td>360.00000</td>\n",
       "      <td>1.00000</td>\n",
       "      <td>Urban</td>\n",
       "      <td>Y</td>\n",
       "      <td>4941.00000</td>\n",
       "    </tr>\n",
       "    <tr>\n",
       "      <th>4</th>\n",
       "      <td>Male</td>\n",
       "      <td>No</td>\n",
       "      <td>0</td>\n",
       "      <td>Graduate</td>\n",
       "      <td>No</td>\n",
       "      <td>6000</td>\n",
       "      <td>0.00000</td>\n",
       "      <td>141.00000</td>\n",
       "      <td>360.00000</td>\n",
       "      <td>1.00000</td>\n",
       "      <td>Urban</td>\n",
       "      <td>Y</td>\n",
       "      <td>6000.00000</td>\n",
       "    </tr>\n",
       "  </tbody>\n",
       "</table>\n",
       "</div>"
      ],
      "text/plain": [
       "  Gender Married  Dependents     Education Self_Employed  ApplicantIncome  \\\n",
       "0   Male      No           0      Graduate            No             5849   \n",
       "1   Male     Yes           1      Graduate            No             4583   \n",
       "2   Male     Yes           0      Graduate           Yes             3000   \n",
       "3   Male     Yes           0  Not Graduate            No             2583   \n",
       "4   Male      No           0      Graduate            No             6000   \n",
       "\n",
       "   CoapplicantIncome  LoanAmount  Loan_Amount_Term  Credit_History  \\\n",
       "0            0.00000   144.02075         360.00000         1.00000   \n",
       "1         1508.00000   128.00000         360.00000         1.00000   \n",
       "2            0.00000    66.00000         360.00000         1.00000   \n",
       "3         2358.00000   120.00000         360.00000         1.00000   \n",
       "4            0.00000   141.00000         360.00000         1.00000   \n",
       "\n",
       "  Property_Area Loan_Status  Total_Income  \n",
       "0         Urban           Y    5849.00000  \n",
       "1         Rural           N    6091.00000  \n",
       "2         Urban           Y    3000.00000  \n",
       "3         Urban           Y    4941.00000  \n",
       "4         Urban           Y    6000.00000  "
      ]
     },
     "metadata": {},
     "execution_count": 10
    }
   ],
   "metadata": {}
  },
  {
   "cell_type": "code",
   "execution_count": 11,
   "source": [
    "df_cleaned.hist(bins=50, figsize=(20,15))\r\n",
    "plt.show()"
   ],
   "outputs": [
    {
     "output_type": "display_data",
     "data": {
      "image/png": "[encoded data removed]",
      "text/plain": [
       "<Figure size 1440x1080 with 9 Axes>"
      ]
     },
     "metadata": {
      "needs_background": "light"
     }
    }
   ],
   "metadata": {}
  },
  {
   "cell_type": "markdown",
   "source": [
    "### Explore Loan Status"
   ],
   "metadata": {}
  },
  {
   "cell_type": "code",
   "execution_count": 12,
   "source": [
    "print(df_cleaned.Loan_Status.value_counts())\r\n",
    "print(df_cleaned.Loan_Status.value_counts()*100/len(df))\r\n"
   ],
   "outputs": [
    {
     "output_type": "stream",
     "name": "stdout",
     "text": [
      "Y    345\n",
      "N    155\n",
      "Name: Loan_Status, dtype: int64\n",
      "Y   69.00000\n",
      "N   31.00000\n",
      "Name: Loan_Status, dtype: float64\n"
     ]
    }
   ],
   "metadata": {}
  },
  {
   "cell_type": "code",
   "execution_count": 13,
   "source": [
    "df_cleaned.Loan_Status.value_counts().plot(kind = 'pie',autopct='%1.1f%%')"
   ],
   "outputs": [
    {
     "output_type": "execute_result",
     "data": {
      "text/plain": [
       "<AxesSubplot:ylabel='Loan_Status'>"
      ]
     },
     "metadata": {},
     "execution_count": 13
    },
    {
     "output_type": "display_data",
     "data": {
      "image/png": "[encoded data removed]",
      "text/plain": [
       "<Figure size 432x288 with 1 Axes>"
      ]
     },
     "metadata": {}
    }
   ],
   "metadata": {}
  },
  {
   "cell_type": "markdown",
   "source": [
    "Dari keseluruhan data, terdapat 69% data yang mendapatkan pinjaman, dan sisanya sebesar 31.0% tidak mendapatkan pinjaman"
   ],
   "metadata": {}
  },
  {
   "cell_type": "markdown",
   "source": [
    "### Explore Gender"
   ],
   "metadata": {}
  },
  {
   "cell_type": "code",
   "execution_count": 14,
   "source": [
    "gender = df_cleaned.groupby(['Gender','Loan_Status']).size().reset_index(name='Count')\r\n",
    "gender['percentage_gender'] = gender['Count'].div(gender.groupby('Gender')['Count'].transform('sum')).mul(100)\r\n",
    "gender"
   ],
   "outputs": [
    {
     "output_type": "execute_result",
     "data": {
      "text/html": [
       "<div>\n",
       "<style scoped>\n",
       "    .dataframe tbody tr th:only-of-type {\n",
       "        vertical-align: middle;\n",
       "    }\n",
       "\n",
       "    .dataframe tbody tr th {\n",
       "        vertical-align: top;\n",
       "    }\n",
       "\n",
       "    .dataframe thead th {\n",
       "        text-align: right;\n",
       "    }\n",
       "</style>\n",
       "<table border=\"1\" class=\"dataframe\">\n",
       "  <thead>\n",
       "    <tr style=\"text-align: right;\">\n",
       "      <th></th>\n",
       "      <th>Gender</th>\n",
       "      <th>Loan_Status</th>\n",
       "      <th>Count</th>\n",
       "      <th>percentage_gender</th>\n",
       "    </tr>\n",
       "  </thead>\n",
       "  <tbody>\n",
       "    <tr>\n",
       "      <th>0</th>\n",
       "      <td>Female</td>\n",
       "      <td>N</td>\n",
       "      <td>31</td>\n",
       "      <td>34.06593</td>\n",
       "    </tr>\n",
       "    <tr>\n",
       "      <th>1</th>\n",
       "      <td>Female</td>\n",
       "      <td>Y</td>\n",
       "      <td>60</td>\n",
       "      <td>65.93407</td>\n",
       "    </tr>\n",
       "    <tr>\n",
       "      <th>2</th>\n",
       "      <td>Male</td>\n",
       "      <td>N</td>\n",
       "      <td>124</td>\n",
       "      <td>30.31785</td>\n",
       "    </tr>\n",
       "    <tr>\n",
       "      <th>3</th>\n",
       "      <td>Male</td>\n",
       "      <td>Y</td>\n",
       "      <td>285</td>\n",
       "      <td>69.68215</td>\n",
       "    </tr>\n",
       "  </tbody>\n",
       "</table>\n",
       "</div>"
      ],
      "text/plain": [
       "   Gender Loan_Status  Count  percentage_gender\n",
       "0  Female           N     31           34.06593\n",
       "1  Female           Y     60           65.93407\n",
       "2    Male           N    124           30.31785\n",
       "3    Male           Y    285           69.68215"
      ]
     },
     "metadata": {},
     "execution_count": 14
    }
   ],
   "metadata": {}
  },
  {
   "cell_type": "code",
   "execution_count": 15,
   "source": [
    "sns.countplot(data=df_cleaned, x=\"Gender\", hue=\"Loan_Status\" , palette=\"Blues\").tick_params(axis='x', labelrotation=45)\r\n",
    "plt.show()\r\n"
   ],
   "outputs": [
    {
     "output_type": "display_data",
     "data": {
      "image/png": "[encoded data removed]",
      "text/plain": [
       "<Figure size 432x288 with 1 Axes>"
      ]
     },
     "metadata": {
      "needs_background": "light"
     }
    }
   ],
   "metadata": {}
  },
  {
   "cell_type": "markdown",
   "source": [
    "Dari data Gender kami dapatkan insight bahwa:</br>\r\n",
    "1. Sebagian besar peminjam memiliki Gender Pria\r\n",
    "2. Rata-rata pengajuan pinjaman dengan peminjam yang memiliki Gender Wanita, lebih cenderung untuk ditolak daripada Pria"
   ],
   "metadata": {}
  },
  {
   "cell_type": "markdown",
   "source": [
    "### Explore Marriage Feature"
   ],
   "metadata": {}
  },
  {
   "cell_type": "code",
   "execution_count": 16,
   "source": [
    "marriage = df_cleaned.groupby(['Married','Loan_Status']).size().reset_index(name='Count')\r\n",
    "marriage['percentage_marriage'] = marriage['Count'].div(marriage.groupby('Married')['Count'].transform('sum')).mul(100)\r\n",
    "marriage"
   ],
   "outputs": [
    {
     "output_type": "execute_result",
     "data": {
      "text/html": [
       "<div>\n",
       "<style scoped>\n",
       "    .dataframe tbody tr th:only-of-type {\n",
       "        vertical-align: middle;\n",
       "    }\n",
       "\n",
       "    .dataframe tbody tr th {\n",
       "        vertical-align: top;\n",
       "    }\n",
       "\n",
       "    .dataframe thead th {\n",
       "        text-align: right;\n",
       "    }\n",
       "</style>\n",
       "<table border=\"1\" class=\"dataframe\">\n",
       "  <thead>\n",
       "    <tr style=\"text-align: right;\">\n",
       "      <th></th>\n",
       "      <th>Married</th>\n",
       "      <th>Loan_Status</th>\n",
       "      <th>Count</th>\n",
       "      <th>percentage_marriage</th>\n",
       "    </tr>\n",
       "  </thead>\n",
       "  <tbody>\n",
       "    <tr>\n",
       "      <th>0</th>\n",
       "      <td>No</td>\n",
       "      <td>N</td>\n",
       "      <td>63</td>\n",
       "      <td>36.00000</td>\n",
       "    </tr>\n",
       "    <tr>\n",
       "      <th>1</th>\n",
       "      <td>No</td>\n",
       "      <td>Y</td>\n",
       "      <td>112</td>\n",
       "      <td>64.00000</td>\n",
       "    </tr>\n",
       "    <tr>\n",
       "      <th>2</th>\n",
       "      <td>Yes</td>\n",
       "      <td>N</td>\n",
       "      <td>92</td>\n",
       "      <td>28.30769</td>\n",
       "    </tr>\n",
       "    <tr>\n",
       "      <th>3</th>\n",
       "      <td>Yes</td>\n",
       "      <td>Y</td>\n",
       "      <td>233</td>\n",
       "      <td>71.69231</td>\n",
       "    </tr>\n",
       "  </tbody>\n",
       "</table>\n",
       "</div>"
      ],
      "text/plain": [
       "  Married Loan_Status  Count  percentage_marriage\n",
       "0      No           N     63             36.00000\n",
       "1      No           Y    112             64.00000\n",
       "2     Yes           N     92             28.30769\n",
       "3     Yes           Y    233             71.69231"
      ]
     },
     "metadata": {},
     "execution_count": 16
    }
   ],
   "metadata": {}
  },
  {
   "cell_type": "code",
   "execution_count": 17,
   "source": [
    "sns.countplot(data=df_cleaned, x=\"Married\", hue=\"Loan_Status\" , palette=\"Blues\").tick_params(axis='x', labelrotation=45)\r\n",
    "plt.show()\r\n"
   ],
   "outputs": [
    {
     "output_type": "display_data",
     "data": {
      "image/png": "[encoded data removed]",
      "text/plain": [
       "<Figure size 432x288 with 1 Axes>"
      ]
     },
     "metadata": {
      "needs_background": "light"
     }
    }
   ],
   "metadata": {}
  },
  {
   "cell_type": "markdown",
   "source": [
    "Dari data status perkawinan, kami dapatkan insight bahwa: </br>\r\n",
    "1. Sebagian besar pengajuan pinjaman memiliki status perkawinan sudah menikah.\r\n",
    "2. Pengajuan pinjaman dengan status belum menikah, lebih memiliki kecenderungan untuk ditolak daripada sudah menikah"
   ],
   "metadata": {}
  },
  {
   "cell_type": "markdown",
   "source": [
    "### Explore Dependents Feature"
   ],
   "metadata": {}
  },
  {
   "cell_type": "code",
   "execution_count": 18,
   "source": [
    "dependent = df_cleaned.groupby(['Dependents','Loan_Status']).size().reset_index(name='Count')\r\n",
    "dependent['percentage_dependent'] = dependent['Count'].div(dependent.groupby('Dependents')['Count'].transform('sum')).mul(100)\r\n",
    "dependent"
   ],
   "outputs": [
    {
     "output_type": "execute_result",
     "data": {
      "text/html": [
       "<div>\n",
       "<style scoped>\n",
       "    .dataframe tbody tr th:only-of-type {\n",
       "        vertical-align: middle;\n",
       "    }\n",
       "\n",
       "    .dataframe tbody tr th {\n",
       "        vertical-align: top;\n",
       "    }\n",
       "\n",
       "    .dataframe thead th {\n",
       "        text-align: right;\n",
       "    }\n",
       "</style>\n",
       "<table border=\"1\" class=\"dataframe\">\n",
       "  <thead>\n",
       "    <tr style=\"text-align: right;\">\n",
       "      <th></th>\n",
       "      <th>Dependents</th>\n",
       "      <th>Loan_Status</th>\n",
       "      <th>Count</th>\n",
       "      <th>percentage_dependent</th>\n",
       "    </tr>\n",
       "  </thead>\n",
       "  <tbody>\n",
       "    <tr>\n",
       "      <th>0</th>\n",
       "      <td>0</td>\n",
       "      <td>N</td>\n",
       "      <td>91</td>\n",
       "      <td>30.33333</td>\n",
       "    </tr>\n",
       "    <tr>\n",
       "      <th>1</th>\n",
       "      <td>0</td>\n",
       "      <td>Y</td>\n",
       "      <td>209</td>\n",
       "      <td>69.66667</td>\n",
       "    </tr>\n",
       "    <tr>\n",
       "      <th>2</th>\n",
       "      <td>1</td>\n",
       "      <td>N</td>\n",
       "      <td>31</td>\n",
       "      <td>38.27160</td>\n",
       "    </tr>\n",
       "    <tr>\n",
       "      <th>3</th>\n",
       "      <td>1</td>\n",
       "      <td>Y</td>\n",
       "      <td>50</td>\n",
       "      <td>61.72840</td>\n",
       "    </tr>\n",
       "    <tr>\n",
       "      <th>4</th>\n",
       "      <td>2</td>\n",
       "      <td>N</td>\n",
       "      <td>18</td>\n",
       "      <td>22.78481</td>\n",
       "    </tr>\n",
       "    <tr>\n",
       "      <th>5</th>\n",
       "      <td>2</td>\n",
       "      <td>Y</td>\n",
       "      <td>61</td>\n",
       "      <td>77.21519</td>\n",
       "    </tr>\n",
       "    <tr>\n",
       "      <th>6</th>\n",
       "      <td>3</td>\n",
       "      <td>N</td>\n",
       "      <td>15</td>\n",
       "      <td>37.50000</td>\n",
       "    </tr>\n",
       "    <tr>\n",
       "      <th>7</th>\n",
       "      <td>3</td>\n",
       "      <td>Y</td>\n",
       "      <td>25</td>\n",
       "      <td>62.50000</td>\n",
       "    </tr>\n",
       "  </tbody>\n",
       "</table>\n",
       "</div>"
      ],
      "text/plain": [
       "   Dependents Loan_Status  Count  percentage_dependent\n",
       "0           0           N     91              30.33333\n",
       "1           0           Y    209              69.66667\n",
       "2           1           N     31              38.27160\n",
       "3           1           Y     50              61.72840\n",
       "4           2           N     18              22.78481\n",
       "5           2           Y     61              77.21519\n",
       "6           3           N     15              37.50000\n",
       "7           3           Y     25              62.50000"
      ]
     },
     "metadata": {},
     "execution_count": 18
    }
   ],
   "metadata": {}
  },
  {
   "cell_type": "code",
   "execution_count": 19,
   "source": [
    "sns.countplot(data=df_cleaned, x=\"Dependents\", hue=\"Loan_Status\" , palette=\"Blues\").tick_params(axis='x', labelrotation=45)\r\n",
    "plt.show()\r\n"
   ],
   "outputs": [
    {
     "output_type": "display_data",
     "data": {
      "image/png": "[encoded data removed]",
      "text/plain": [
       "<Figure size 432x288 with 1 Axes>"
      ]
     },
     "metadata": {
      "needs_background": "light"
     }
    }
   ],
   "metadata": {}
  },
  {
   "cell_type": "markdown",
   "source": [
    "Dari data dependents atau jumlah tanggungan, didapatkan insight: </br>\r\n",
    "1. Sebagian besar pengajuan pinjaman belum memiliki tanggungan.\r\n",
    "2. Pengajuan pinjaman dengan jumlah tanggungan 1 dan 3 lebih cenderung untuk ditolak dibandingkan dengan tanpa tanggungan atau 2 tanggungan"
   ],
   "metadata": {}
  },
  {
   "cell_type": "markdown",
   "source": [
    "### Explore Education Feature"
   ],
   "metadata": {}
  },
  {
   "cell_type": "code",
   "execution_count": 20,
   "source": [
    "educate = df_cleaned.groupby(['Education','Loan_Status']).size().reset_index(name='Count')\r\n",
    "educate['percentage_education'] = educate['Count'].div(educate.groupby('Education')['Count'].transform('sum')).mul(100)\r\n",
    "educate"
   ],
   "outputs": [
    {
     "output_type": "execute_result",
     "data": {
      "text/html": [
       "<div>\n",
       "<style scoped>\n",
       "    .dataframe tbody tr th:only-of-type {\n",
       "        vertical-align: middle;\n",
       "    }\n",
       "\n",
       "    .dataframe tbody tr th {\n",
       "        vertical-align: top;\n",
       "    }\n",
       "\n",
       "    .dataframe thead th {\n",
       "        text-align: right;\n",
       "    }\n",
       "</style>\n",
       "<table border=\"1\" class=\"dataframe\">\n",
       "  <thead>\n",
       "    <tr style=\"text-align: right;\">\n",
       "      <th></th>\n",
       "      <th>Education</th>\n",
       "      <th>Loan_Status</th>\n",
       "      <th>Count</th>\n",
       "      <th>percentage_education</th>\n",
       "    </tr>\n",
       "  </thead>\n",
       "  <tbody>\n",
       "    <tr>\n",
       "      <th>0</th>\n",
       "      <td>Graduate</td>\n",
       "      <td>N</td>\n",
       "      <td>113</td>\n",
       "      <td>28.75318</td>\n",
       "    </tr>\n",
       "    <tr>\n",
       "      <th>1</th>\n",
       "      <td>Graduate</td>\n",
       "      <td>Y</td>\n",
       "      <td>280</td>\n",
       "      <td>71.24682</td>\n",
       "    </tr>\n",
       "    <tr>\n",
       "      <th>2</th>\n",
       "      <td>Not Graduate</td>\n",
       "      <td>N</td>\n",
       "      <td>42</td>\n",
       "      <td>39.25234</td>\n",
       "    </tr>\n",
       "    <tr>\n",
       "      <th>3</th>\n",
       "      <td>Not Graduate</td>\n",
       "      <td>Y</td>\n",
       "      <td>65</td>\n",
       "      <td>60.74766</td>\n",
       "    </tr>\n",
       "  </tbody>\n",
       "</table>\n",
       "</div>"
      ],
      "text/plain": [
       "      Education Loan_Status  Count  percentage_education\n",
       "0      Graduate           N    113              28.75318\n",
       "1      Graduate           Y    280              71.24682\n",
       "2  Not Graduate           N     42              39.25234\n",
       "3  Not Graduate           Y     65              60.74766"
      ]
     },
     "metadata": {},
     "execution_count": 20
    }
   ],
   "metadata": {}
  },
  {
   "cell_type": "code",
   "execution_count": 21,
   "source": [
    "sns.countplot(data=df_cleaned, x=\"Education\", hue=\"Loan_Status\" , palette=\"Blues\").tick_params(axis='x', labelrotation=45)\r\n",
    "plt.show()\r\n"
   ],
   "outputs": [
    {
     "output_type": "display_data",
     "data": {
      "image/png": "[encoded data removed]",
      "text/plain": [
       "<Figure size 432x288 with 1 Axes>"
      ]
     },
     "metadata": {
      "needs_background": "light"
     }
    }
   ],
   "metadata": {}
  },
  {
   "cell_type": "markdown",
   "source": [
    "Dari data pendidikan, didapatkan insight: </br>\r\n",
    "1. Sebagian besar pengajuan pinjaman memiliki pendidikan graduate.\r\n",
    "2. Pengajuan pinjaman dengan pendidikan not graduate lebih cenderung untuk ditolak dibandingkan dengan graduate"
   ],
   "metadata": {}
  },
  {
   "cell_type": "markdown",
   "source": [
    "### Explore Self-Employed"
   ],
   "metadata": {}
  },
  {
   "cell_type": "code",
   "execution_count": 22,
   "source": [
    "selfemp = df_cleaned.groupby(['Self_Employed','Loan_Status']).size().reset_index(name='Count')\r\n",
    "selfemp['percentage_selfemp'] = selfemp['Count'].div(selfemp.groupby('Self_Employed')['Count'].transform('sum')).mul(100)\r\n",
    "selfemp"
   ],
   "outputs": [
    {
     "output_type": "execute_result",
     "data": {
      "text/html": [
       "<div>\n",
       "<style scoped>\n",
       "    .dataframe tbody tr th:only-of-type {\n",
       "        vertical-align: middle;\n",
       "    }\n",
       "\n",
       "    .dataframe tbody tr th {\n",
       "        vertical-align: top;\n",
       "    }\n",
       "\n",
       "    .dataframe thead th {\n",
       "        text-align: right;\n",
       "    }\n",
       "</style>\n",
       "<table border=\"1\" class=\"dataframe\">\n",
       "  <thead>\n",
       "    <tr style=\"text-align: right;\">\n",
       "      <th></th>\n",
       "      <th>Self_Employed</th>\n",
       "      <th>Loan_Status</th>\n",
       "      <th>Count</th>\n",
       "      <th>percentage_selfemp</th>\n",
       "    </tr>\n",
       "  </thead>\n",
       "  <tbody>\n",
       "    <tr>\n",
       "      <th>0</th>\n",
       "      <td>No</td>\n",
       "      <td>N</td>\n",
       "      <td>134</td>\n",
       "      <td>30.87558</td>\n",
       "    </tr>\n",
       "    <tr>\n",
       "      <th>1</th>\n",
       "      <td>No</td>\n",
       "      <td>Y</td>\n",
       "      <td>300</td>\n",
       "      <td>69.12442</td>\n",
       "    </tr>\n",
       "    <tr>\n",
       "      <th>2</th>\n",
       "      <td>Yes</td>\n",
       "      <td>N</td>\n",
       "      <td>21</td>\n",
       "      <td>31.81818</td>\n",
       "    </tr>\n",
       "    <tr>\n",
       "      <th>3</th>\n",
       "      <td>Yes</td>\n",
       "      <td>Y</td>\n",
       "      <td>45</td>\n",
       "      <td>68.18182</td>\n",
       "    </tr>\n",
       "  </tbody>\n",
       "</table>\n",
       "</div>"
      ],
      "text/plain": [
       "  Self_Employed Loan_Status  Count  percentage_selfemp\n",
       "0            No           N    134            30.87558\n",
       "1            No           Y    300            69.12442\n",
       "2           Yes           N     21            31.81818\n",
       "3           Yes           Y     45            68.18182"
      ]
     },
     "metadata": {},
     "execution_count": 22
    }
   ],
   "metadata": {}
  },
  {
   "cell_type": "code",
   "execution_count": 23,
   "source": [
    "sns.countplot(data=df_cleaned, x=\"Self_Employed\", hue=\"Loan_Status\" , palette=\"Blues\").tick_params(axis='x', labelrotation=45)\r\n",
    "plt.show()\r\n"
   ],
   "outputs": [
    {
     "output_type": "display_data",
     "data": {
      "image/png": "[encoded data removed]",
      "text/plain": [
       "<Figure size 432x288 with 1 Axes>"
      ]
     },
     "metadata": {
      "needs_background": "light"
     }
    }
   ],
   "metadata": {}
  },
  {
   "cell_type": "markdown",
   "source": [
    "Dari data self employed, didapatkan insight sebagian besar pengajuan pinjaman tidak self employed"
   ],
   "metadata": {}
  },
  {
   "cell_type": "markdown",
   "source": [
    "### Explore Property Area"
   ],
   "metadata": {}
  },
  {
   "cell_type": "code",
   "execution_count": 24,
   "source": [
    "area = df_cleaned.groupby(['Property_Area','Loan_Status']).size().reset_index(name='Count')\r\n",
    "area['percentage_area'] = area['Count'].div(area.groupby('Property_Area')['Count'].transform('sum')).mul(100)\r\n",
    "area"
   ],
   "outputs": [
    {
     "output_type": "execute_result",
     "data": {
      "text/html": [
       "<div>\n",
       "<style scoped>\n",
       "    .dataframe tbody tr th:only-of-type {\n",
       "        vertical-align: middle;\n",
       "    }\n",
       "\n",
       "    .dataframe tbody tr th {\n",
       "        vertical-align: top;\n",
       "    }\n",
       "\n",
       "    .dataframe thead th {\n",
       "        text-align: right;\n",
       "    }\n",
       "</style>\n",
       "<table border=\"1\" class=\"dataframe\">\n",
       "  <thead>\n",
       "    <tr style=\"text-align: right;\">\n",
       "      <th></th>\n",
       "      <th>Property_Area</th>\n",
       "      <th>Loan_Status</th>\n",
       "      <th>Count</th>\n",
       "      <th>percentage_area</th>\n",
       "    </tr>\n",
       "  </thead>\n",
       "  <tbody>\n",
       "    <tr>\n",
       "      <th>0</th>\n",
       "      <td>Rural</td>\n",
       "      <td>N</td>\n",
       "      <td>56</td>\n",
       "      <td>39.71631</td>\n",
       "    </tr>\n",
       "    <tr>\n",
       "      <th>1</th>\n",
       "      <td>Rural</td>\n",
       "      <td>Y</td>\n",
       "      <td>85</td>\n",
       "      <td>60.28369</td>\n",
       "    </tr>\n",
       "    <tr>\n",
       "      <th>2</th>\n",
       "      <td>Semiurban</td>\n",
       "      <td>N</td>\n",
       "      <td>39</td>\n",
       "      <td>20.74468</td>\n",
       "    </tr>\n",
       "    <tr>\n",
       "      <th>3</th>\n",
       "      <td>Semiurban</td>\n",
       "      <td>Y</td>\n",
       "      <td>149</td>\n",
       "      <td>79.25532</td>\n",
       "    </tr>\n",
       "    <tr>\n",
       "      <th>4</th>\n",
       "      <td>Urban</td>\n",
       "      <td>N</td>\n",
       "      <td>60</td>\n",
       "      <td>35.08772</td>\n",
       "    </tr>\n",
       "    <tr>\n",
       "      <th>5</th>\n",
       "      <td>Urban</td>\n",
       "      <td>Y</td>\n",
       "      <td>111</td>\n",
       "      <td>64.91228</td>\n",
       "    </tr>\n",
       "  </tbody>\n",
       "</table>\n",
       "</div>"
      ],
      "text/plain": [
       "  Property_Area Loan_Status  Count  percentage_area\n",
       "0         Rural           N     56         39.71631\n",
       "1         Rural           Y     85         60.28369\n",
       "2     Semiurban           N     39         20.74468\n",
       "3     Semiurban           Y    149         79.25532\n",
       "4         Urban           N     60         35.08772\n",
       "5         Urban           Y    111         64.91228"
      ]
     },
     "metadata": {},
     "execution_count": 24
    }
   ],
   "metadata": {}
  },
  {
   "cell_type": "code",
   "execution_count": 25,
   "source": [
    "sns.countplot(data=df_cleaned, x=\"Property_Area\", hue=\"Loan_Status\" , palette=\"Blues\").tick_params(axis='x', labelrotation=45)\r\n",
    "plt.show()\r\n"
   ],
   "outputs": [
    {
     "output_type": "display_data",
     "data": {
      "image/png": "[encoded data removed]",
      "text/plain": [
       "<Figure size 432x288 with 1 Axes>"
      ]
     },
     "metadata": {
      "needs_background": "light"
     }
    }
   ],
   "metadata": {}
  },
  {
   "cell_type": "markdown",
   "source": [
    "Dari data property area, didapatkan insight: </br>\r\n",
    "1. Pengajuan pinjaman dengan area semi urban lebih banyak dibandingkan dengan area urban dan rural\r\n",
    "2. Pengajuan pinjaman dengan area rural lebih cenderung untuk ditolak dibandingkan dengan area semiurban dan urban"
   ],
   "metadata": {}
  },
  {
   "cell_type": "markdown",
   "source": [
    "### Kesimpulan Data Exploration\r\n",
    "\r\n",
    "1. Dari keseluruhan data, terdapat 69% data yang mendapatkan pinjaman, dan sisanya sebesar 31.0% tidak mendapatkan pinjaman\r\n",
    "2. Dari data Gender kami dapatkan insight bahwa:</br>\r\n",
    "    1. Sebagian besar peminjam memiliki Gender Pria\r\n",
    "    2. Rata-rata pengajuan pinjaman dengan peminjam yang memiliki Gender Wanita, lebih cenderung untuk ditolak daripada Pria\r\n",
    "3. Dari data status perkawinan, kami dapatkan insight bahwa: </br>\r\n",
    "    1. Sebagian besar pengajuan pinjaman memiliki status perkawinan sudah menikah.\r\n",
    "    2. Pengajuan pinjaman dengan status belum menikah, lebih memiliki kecenderungan untuk ditolak daripada sudah menikah\r\n",
    "4. Dari data dependents atau jumlah tanggungan, didapatkan insight: </br>\r\n",
    "    1. Sebagian besar pengajuan pinjaman belum memiliki tanggungan.\r\n",
    "    2. Pengajuan pinjaman dengan jumlah tanggungan 1 dan 3 lebih cenderung untuk ditolak dibandingkan dengan tanpa tanggungan atau 2 tanggungan\r\n",
    "5. Dari data pendidikan, didapatkan insight: </br>\r\n",
    "    1. Sebagian besar pengajuan pinjaman memiliki pendidikan graduate.\r\n",
    "    2. Pengajuan pinjaman dengan pendidikan not graduate lebih cenderung untuk ditolak dibandingkan dengan graduate.\r\n",
    "6. Dari data property area, didapatkan insight: </br>\r\n",
    "    1. Pengajuan pinjaman dengan area semi urban lebih banyak dibandingkan dengan area urban dan rural\r\n",
    "    2. Pengajuan pinjaman dengan area rural lebih cenderung untuk ditolak dibandingkan dengan area semiurban dan urban"
   ],
   "metadata": {}
  },
  {
   "cell_type": "markdown",
   "source": [
    "## vi. Data Preprocessing"
   ],
   "metadata": {}
  },
  {
   "cell_type": "code",
   "execution_count": 26,
   "source": [
    "#Melihat daftar kolom yang ada\r\n",
    "df_encoded = df_cleaned.copy()\r\n",
    "df_encoded.dtypes"
   ],
   "outputs": [
    {
     "output_type": "execute_result",
     "data": {
      "text/plain": [
       "Gender                object\n",
       "Married               object\n",
       "Dependents             int64\n",
       "Education             object\n",
       "Self_Employed         object\n",
       "ApplicantIncome        int64\n",
       "CoapplicantIncome    float64\n",
       "LoanAmount           float64\n",
       "Loan_Amount_Term     float64\n",
       "Credit_History       float64\n",
       "Property_Area         object\n",
       "Loan_Status           object\n",
       "Total_Income         float64\n",
       "dtype: object"
      ]
     },
     "metadata": {},
     "execution_count": 26
    }
   ],
   "metadata": {}
  },
  {
   "cell_type": "code",
   "execution_count": 27,
   "source": [
    "#Ubah feature Loan Status dari Y dan N menjadi 1 dan 0\r\n",
    "df_encoded.Loan_Status= df_encoded.Loan_Status.map(dict(Y=1, N=0))\r\n"
   ],
   "outputs": [],
   "metadata": {}
  },
  {
   "cell_type": "code",
   "execution_count": 28,
   "source": [
    "#Kami menghapus fitur applicant income dan coapplicant income dikarenakan untuk fitur tersebut sudah tercover dengan fitur Total Income\r\n",
    "df_encoded.drop(columns=['ApplicantIncome','CoapplicantIncome'], inplace=True)"
   ],
   "outputs": [],
   "metadata": {}
  },
  {
   "cell_type": "code",
   "execution_count": 29,
   "source": [
    "#Pengecekan kolom dengan nilai kategorikal\r\n",
    "kategori = [col for col in df_encoded.columns if df_encoded[col].dtypes == 'O']\r\n",
    "\r\n",
    "kategori"
   ],
   "outputs": [
    {
     "output_type": "execute_result",
     "data": {
      "text/plain": [
       "['Gender', 'Married', 'Education', 'Self_Employed', 'Property_Area']"
      ]
     },
     "metadata": {},
     "execution_count": 29
    }
   ],
   "metadata": {}
  },
  {
   "cell_type": "code",
   "execution_count": 30,
   "source": [
    "categorical = ['Gender','Married','Education','Self_Employed','Property_Area']"
   ],
   "outputs": [],
   "metadata": {}
  },
  {
   "cell_type": "code",
   "execution_count": 31,
   "source": [
    "# Pembuatan categorical mask\r\n",
    "categorical_feature_mask = df_encoded.dtypes == object\r\n",
    "# Pembuatan categorical feature menjadi list\r\n",
    "categorical_cols = df_encoded.columns[categorical_feature_mask].tolist()\r\n",
    "\r\n",
    "# Definisi OneHotEncoder\r\n",
    "from sklearn.preprocessing import OneHotEncoder\r\n",
    "ohe = OneHotEncoder(handle_unknown='ignore', sparse = False)\r\n",
    "# Aplikasi One Hot Encoder pada data\r\n",
    "ohe.fit(df_encoded[categorical_cols])\r\n",
    "cat_ohe = ohe.transform(df_encoded[categorical_cols])\r\n",
    "\r\n",
    "#Pembuatan DataFrame dari fitur yang sudah diencode\r\n",
    "ohe_df = pd.DataFrame(cat_ohe, columns = ohe.get_feature_names(input_features = categorical_cols))\r\n",
    "#Penggabungan original data dengan dataframe encoded\r\n",
    "df_ohe = pd.concat([df_encoded, ohe_df], axis=1).drop(columns = categorical_cols, axis=1)\r\n"
   ],
   "outputs": [],
   "metadata": {}
  },
  {
   "cell_type": "code",
   "execution_count": 32,
   "source": [
    "df_ohe"
   ],
   "outputs": [
    {
     "output_type": "execute_result",
     "data": {
      "text/html": [
       "<div>\n",
       "<style scoped>\n",
       "    .dataframe tbody tr th:only-of-type {\n",
       "        vertical-align: middle;\n",
       "    }\n",
       "\n",
       "    .dataframe tbody tr th {\n",
       "        vertical-align: top;\n",
       "    }\n",
       "\n",
       "    .dataframe thead th {\n",
       "        text-align: right;\n",
       "    }\n",
       "</style>\n",
       "<table border=\"1\" class=\"dataframe\">\n",
       "  <thead>\n",
       "    <tr style=\"text-align: right;\">\n",
       "      <th></th>\n",
       "      <th>Dependents</th>\n",
       "      <th>LoanAmount</th>\n",
       "      <th>Loan_Amount_Term</th>\n",
       "      <th>Credit_History</th>\n",
       "      <th>Loan_Status</th>\n",
       "      <th>Total_Income</th>\n",
       "      <th>Gender_Female</th>\n",
       "      <th>Gender_Male</th>\n",
       "      <th>Married_No</th>\n",
       "      <th>Married_Yes</th>\n",
       "      <th>Education_Graduate</th>\n",
       "      <th>Education_Not Graduate</th>\n",
       "      <th>Self_Employed_No</th>\n",
       "      <th>Self_Employed_Yes</th>\n",
       "      <th>Property_Area_Rural</th>\n",
       "      <th>Property_Area_Semiurban</th>\n",
       "      <th>Property_Area_Urban</th>\n",
       "    </tr>\n",
       "  </thead>\n",
       "  <tbody>\n",
       "    <tr>\n",
       "      <th>0</th>\n",
       "      <td>0</td>\n",
       "      <td>144.02075</td>\n",
       "      <td>360.00000</td>\n",
       "      <td>1.00000</td>\n",
       "      <td>1</td>\n",
       "      <td>5849.00000</td>\n",
       "      <td>0.00000</td>\n",
       "      <td>1.00000</td>\n",
       "      <td>1.00000</td>\n",
       "      <td>0.00000</td>\n",
       "      <td>1.00000</td>\n",
       "      <td>0.00000</td>\n",
       "      <td>1.00000</td>\n",
       "      <td>0.00000</td>\n",
       "      <td>0.00000</td>\n",
       "      <td>0.00000</td>\n",
       "      <td>1.00000</td>\n",
       "    </tr>\n",
       "    <tr>\n",
       "      <th>1</th>\n",
       "      <td>1</td>\n",
       "      <td>128.00000</td>\n",
       "      <td>360.00000</td>\n",
       "      <td>1.00000</td>\n",
       "      <td>0</td>\n",
       "      <td>6091.00000</td>\n",
       "      <td>0.00000</td>\n",
       "      <td>1.00000</td>\n",
       "      <td>0.00000</td>\n",
       "      <td>1.00000</td>\n",
       "      <td>1.00000</td>\n",
       "      <td>0.00000</td>\n",
       "      <td>1.00000</td>\n",
       "      <td>0.00000</td>\n",
       "      <td>1.00000</td>\n",
       "      <td>0.00000</td>\n",
       "      <td>0.00000</td>\n",
       "    </tr>\n",
       "    <tr>\n",
       "      <th>2</th>\n",
       "      <td>0</td>\n",
       "      <td>66.00000</td>\n",
       "      <td>360.00000</td>\n",
       "      <td>1.00000</td>\n",
       "      <td>1</td>\n",
       "      <td>3000.00000</td>\n",
       "      <td>0.00000</td>\n",
       "      <td>1.00000</td>\n",
       "      <td>0.00000</td>\n",
       "      <td>1.00000</td>\n",
       "      <td>1.00000</td>\n",
       "      <td>0.00000</td>\n",
       "      <td>0.00000</td>\n",
       "      <td>1.00000</td>\n",
       "      <td>0.00000</td>\n",
       "      <td>0.00000</td>\n",
       "      <td>1.00000</td>\n",
       "    </tr>\n",
       "    <tr>\n",
       "      <th>3</th>\n",
       "      <td>0</td>\n",
       "      <td>120.00000</td>\n",
       "      <td>360.00000</td>\n",
       "      <td>1.00000</td>\n",
       "      <td>1</td>\n",
       "      <td>4941.00000</td>\n",
       "      <td>0.00000</td>\n",
       "      <td>1.00000</td>\n",
       "      <td>0.00000</td>\n",
       "      <td>1.00000</td>\n",
       "      <td>0.00000</td>\n",
       "      <td>1.00000</td>\n",
       "      <td>1.00000</td>\n",
       "      <td>0.00000</td>\n",
       "      <td>0.00000</td>\n",
       "      <td>0.00000</td>\n",
       "      <td>1.00000</td>\n",
       "    </tr>\n",
       "    <tr>\n",
       "      <th>4</th>\n",
       "      <td>0</td>\n",
       "      <td>141.00000</td>\n",
       "      <td>360.00000</td>\n",
       "      <td>1.00000</td>\n",
       "      <td>1</td>\n",
       "      <td>6000.00000</td>\n",
       "      <td>0.00000</td>\n",
       "      <td>1.00000</td>\n",
       "      <td>1.00000</td>\n",
       "      <td>0.00000</td>\n",
       "      <td>1.00000</td>\n",
       "      <td>0.00000</td>\n",
       "      <td>1.00000</td>\n",
       "      <td>0.00000</td>\n",
       "      <td>0.00000</td>\n",
       "      <td>0.00000</td>\n",
       "      <td>1.00000</td>\n",
       "    </tr>\n",
       "    <tr>\n",
       "      <th>...</th>\n",
       "      <td>...</td>\n",
       "      <td>...</td>\n",
       "      <td>...</td>\n",
       "      <td>...</td>\n",
       "      <td>...</td>\n",
       "      <td>...</td>\n",
       "      <td>...</td>\n",
       "      <td>...</td>\n",
       "      <td>...</td>\n",
       "      <td>...</td>\n",
       "      <td>...</td>\n",
       "      <td>...</td>\n",
       "      <td>...</td>\n",
       "      <td>...</td>\n",
       "      <td>...</td>\n",
       "      <td>...</td>\n",
       "      <td>...</td>\n",
       "    </tr>\n",
       "    <tr>\n",
       "      <th>495</th>\n",
       "      <td>1</td>\n",
       "      <td>105.00000</td>\n",
       "      <td>84.00000</td>\n",
       "      <td>1.00000</td>\n",
       "      <td>1</td>\n",
       "      <td>4239.00000</td>\n",
       "      <td>1.00000</td>\n",
       "      <td>0.00000</td>\n",
       "      <td>0.00000</td>\n",
       "      <td>1.00000</td>\n",
       "      <td>1.00000</td>\n",
       "      <td>0.00000</td>\n",
       "      <td>1.00000</td>\n",
       "      <td>0.00000</td>\n",
       "      <td>0.00000</td>\n",
       "      <td>1.00000</td>\n",
       "      <td>0.00000</td>\n",
       "    </tr>\n",
       "    <tr>\n",
       "      <th>496</th>\n",
       "      <td>0</td>\n",
       "      <td>107.00000</td>\n",
       "      <td>360.00000</td>\n",
       "      <td>1.00000</td>\n",
       "      <td>1</td>\n",
       "      <td>4300.00000</td>\n",
       "      <td>0.00000</td>\n",
       "      <td>1.00000</td>\n",
       "      <td>0.00000</td>\n",
       "      <td>1.00000</td>\n",
       "      <td>0.00000</td>\n",
       "      <td>1.00000</td>\n",
       "      <td>1.00000</td>\n",
       "      <td>0.00000</td>\n",
       "      <td>1.00000</td>\n",
       "      <td>0.00000</td>\n",
       "      <td>0.00000</td>\n",
       "    </tr>\n",
       "    <tr>\n",
       "      <th>497</th>\n",
       "      <td>0</td>\n",
       "      <td>111.00000</td>\n",
       "      <td>12.00000</td>\n",
       "      <td>1.00000</td>\n",
       "      <td>1</td>\n",
       "      <td>7482.00000</td>\n",
       "      <td>0.00000</td>\n",
       "      <td>1.00000</td>\n",
       "      <td>0.00000</td>\n",
       "      <td>1.00000</td>\n",
       "      <td>1.00000</td>\n",
       "      <td>0.00000</td>\n",
       "      <td>1.00000</td>\n",
       "      <td>0.00000</td>\n",
       "      <td>0.00000</td>\n",
       "      <td>0.00000</td>\n",
       "      <td>1.00000</td>\n",
       "    </tr>\n",
       "    <tr>\n",
       "      <th>498</th>\n",
       "      <td>1</td>\n",
       "      <td>95.00000</td>\n",
       "      <td>360.00000</td>\n",
       "      <td>1.00000</td>\n",
       "      <td>1</td>\n",
       "      <td>2895.00000</td>\n",
       "      <td>0.00000</td>\n",
       "      <td>1.00000</td>\n",
       "      <td>0.00000</td>\n",
       "      <td>1.00000</td>\n",
       "      <td>1.00000</td>\n",
       "      <td>0.00000</td>\n",
       "      <td>0.00000</td>\n",
       "      <td>1.00000</td>\n",
       "      <td>0.00000</td>\n",
       "      <td>1.00000</td>\n",
       "      <td>0.00000</td>\n",
       "    </tr>\n",
       "    <tr>\n",
       "      <th>499</th>\n",
       "      <td>0</td>\n",
       "      <td>209.00000</td>\n",
       "      <td>360.00000</td>\n",
       "      <td>0.00000</td>\n",
       "      <td>0</td>\n",
       "      <td>10699.00000</td>\n",
       "      <td>0.00000</td>\n",
       "      <td>1.00000</td>\n",
       "      <td>1.00000</td>\n",
       "      <td>0.00000</td>\n",
       "      <td>1.00000</td>\n",
       "      <td>0.00000</td>\n",
       "      <td>1.00000</td>\n",
       "      <td>0.00000</td>\n",
       "      <td>1.00000</td>\n",
       "      <td>0.00000</td>\n",
       "      <td>0.00000</td>\n",
       "    </tr>\n",
       "  </tbody>\n",
       "</table>\n",
       "<p>500 rows × 17 columns</p>\n",
       "</div>"
      ],
      "text/plain": [
       "     Dependents  LoanAmount  Loan_Amount_Term  Credit_History  Loan_Status  \\\n",
       "0             0   144.02075         360.00000         1.00000            1   \n",
       "1             1   128.00000         360.00000         1.00000            0   \n",
       "2             0    66.00000         360.00000         1.00000            1   \n",
       "3             0   120.00000         360.00000         1.00000            1   \n",
       "4             0   141.00000         360.00000         1.00000            1   \n",
       "..          ...         ...               ...             ...          ...   \n",
       "495           1   105.00000          84.00000         1.00000            1   \n",
       "496           0   107.00000         360.00000         1.00000            1   \n",
       "497           0   111.00000          12.00000         1.00000            1   \n",
       "498           1    95.00000         360.00000         1.00000            1   \n",
       "499           0   209.00000         360.00000         0.00000            0   \n",
       "\n",
       "     Total_Income  Gender_Female  Gender_Male  Married_No  Married_Yes  \\\n",
       "0      5849.00000        0.00000      1.00000     1.00000      0.00000   \n",
       "1      6091.00000        0.00000      1.00000     0.00000      1.00000   \n",
       "2      3000.00000        0.00000      1.00000     0.00000      1.00000   \n",
       "3      4941.00000        0.00000      1.00000     0.00000      1.00000   \n",
       "4      6000.00000        0.00000      1.00000     1.00000      0.00000   \n",
       "..            ...            ...          ...         ...          ...   \n",
       "495    4239.00000        1.00000      0.00000     0.00000      1.00000   \n",
       "496    4300.00000        0.00000      1.00000     0.00000      1.00000   \n",
       "497    7482.00000        0.00000      1.00000     0.00000      1.00000   \n",
       "498    2895.00000        0.00000      1.00000     0.00000      1.00000   \n",
       "499   10699.00000        0.00000      1.00000     1.00000      0.00000   \n",
       "\n",
       "     Education_Graduate  Education_Not Graduate  Self_Employed_No  \\\n",
       "0               1.00000                 0.00000           1.00000   \n",
       "1               1.00000                 0.00000           1.00000   \n",
       "2               1.00000                 0.00000           0.00000   \n",
       "3               0.00000                 1.00000           1.00000   \n",
       "4               1.00000                 0.00000           1.00000   \n",
       "..                  ...                     ...               ...   \n",
       "495             1.00000                 0.00000           1.00000   \n",
       "496             0.00000                 1.00000           1.00000   \n",
       "497             1.00000                 0.00000           1.00000   \n",
       "498             1.00000                 0.00000           0.00000   \n",
       "499             1.00000                 0.00000           1.00000   \n",
       "\n",
       "     Self_Employed_Yes  Property_Area_Rural  Property_Area_Semiurban  \\\n",
       "0              0.00000              0.00000                  0.00000   \n",
       "1              0.00000              1.00000                  0.00000   \n",
       "2              1.00000              0.00000                  0.00000   \n",
       "3              0.00000              0.00000                  0.00000   \n",
       "4              0.00000              0.00000                  0.00000   \n",
       "..                 ...                  ...                      ...   \n",
       "495            0.00000              0.00000                  1.00000   \n",
       "496            0.00000              1.00000                  0.00000   \n",
       "497            0.00000              0.00000                  0.00000   \n",
       "498            1.00000              0.00000                  1.00000   \n",
       "499            0.00000              1.00000                  0.00000   \n",
       "\n",
       "     Property_Area_Urban  \n",
       "0                1.00000  \n",
       "1                0.00000  \n",
       "2                1.00000  \n",
       "3                1.00000  \n",
       "4                1.00000  \n",
       "..                   ...  \n",
       "495              0.00000  \n",
       "496              0.00000  \n",
       "497              1.00000  \n",
       "498              0.00000  \n",
       "499              0.00000  \n",
       "\n",
       "[500 rows x 17 columns]"
      ]
     },
     "metadata": {},
     "execution_count": 32
    }
   ],
   "metadata": {}
  },
  {
   "cell_type": "code",
   "execution_count": 33,
   "source": [
    "#Proses definisi X dan Y\r\n",
    "y = df_ohe['Loan_Status'].values\r\n",
    "X = df_ohe.drop(columns=['Loan_Status'],axis=1).values"
   ],
   "outputs": [],
   "metadata": {}
  },
  {
   "cell_type": "code",
   "execution_count": 34,
   "source": [
    "#Train/Test Split\r\n",
    "X_train, X_test, y_train, y_test = train_test_split(X, y, test_size=0.20, random_state=42)"
   ],
   "outputs": [],
   "metadata": {}
  },
  {
   "cell_type": "markdown",
   "source": [
    "## vii. Definisi Model\r\n",
    "Kami akan menggunakan Pipeline untuk melakukan scaling data dan untuk melakukan training data. </br>\r\n",
    "Kami juga akan sekaligus melakukan mendefinisikan hyperparameter yang akan digunakan untuk tuning dengan menggunakan GridSearchCV untuk mencari parameter terbaik dari model yang kami uji. </br>\r\n",
    "Terdapat 7 model yang akan kami lakukan pengujian yaitu:\r\n",
    "1. Logistic Regression\r\n",
    "2. Support Vector Machine\r\n",
    "3. Decision Tree\r\n",
    "4. Random Forest\r\n",
    "5. K Nearest Neighbors\r\n",
    "6. Gradient Boosting\r\n",
    "7. XGBoost"
   ],
   "metadata": {}
  },
  {
   "cell_type": "code",
   "execution_count": 35,
   "source": [
    "#Definisi Model Pipeline\r\n",
    "pipe_lr = Pipeline([('scl', StandardScaler()), ('clf', LogisticRegression(random_state=42))])\r\n",
    "pipe_svm = Pipeline([('scl', StandardScaler()), ('clf', SVC(random_state=42))])\r\n",
    "pipe_dt = Pipeline([('scl', StandardScaler()), ('clf', DecisionTreeClassifier(random_state=42))])\r\n",
    "pipe_rf = Pipeline([('scl', StandardScaler()), ('clf', RandomForestClassifier(random_state=42))])\r\n",
    "pipe_knn = Pipeline([('scl', StandardScaler()), ('clf', KNeighborsClassifier())])\r\n",
    "pipe_gb = Pipeline([('scl', StandardScaler()), ('clf', GradientBoostingClassifier())])\r\n",
    "pipe_xgb= Pipeline([('scl', StandardScaler()), ('clf', xgb.XGBClassifier(use_label_encoder=False))])"
   ],
   "outputs": [],
   "metadata": {}
  },
  {
   "cell_type": "code",
   "execution_count": 36,
   "source": [
    "#Definisi Hyperparameter untuk GridSearch CV\r\n",
    "grid_params_lr = [{'clf__penalty': ['l2'],\r\n",
    "\t\t'clf__C': [100, 10, 1.0, 0.1, 0.01],\r\n",
    "\t\t'clf__solver': ['newton-cg', 'lbfgs', 'liblinear']}] \r\n",
    "\r\n",
    "grid_params_rf = [{'clf__criterion': ['gini', 'entropy'],\r\n",
    "\t\t'clf__n_estimators': [10, 25, 50, 100, 250],\r\n",
    "\t\t'clf__max_features': ['auto','sqrt','log2']}]\r\n",
    "\r\n",
    "grid_params_svm = [{'clf__kernel': ['linear', 'rbf'], \r\n",
    "\t\t'clf__C': [100, 10, 1.0, 0.1, 0.01]}]\r\n",
    "\r\n",
    "grid_params_dt = [{'clf__criterion': ['gini', 'entropy'],\r\n",
    "\t\t'clf__splitter': ['best','random'],\r\n",
    "\t\t'clf__max_features': ['auto','sqrt','log2']}]\r\n",
    "\r\n",
    "grid_params_knn = [{'clf__n_neighbors': [1,5,10,25,50],\r\n",
    "\t\t'clf__weights': ['uniform','distance'],\r\n",
    "\t\t'clf__algorithm': ['auto','ball_tree','kd_tree','brute']}]\r\n",
    "\r\n",
    "grid_params_gb = [{'clf__loss': ['deviance', 'exponential'],\r\n",
    "\t\t'clf__learning_rate': [100, 10, 1.0, 0.1, 0.01],\r\n",
    "\t\t'clf__n_estimators': [10, 25, 50, 100, 250],\r\n",
    "\t\t'clf__max_features': ['auto','sqrt','log2']}]\r\n",
    "\r\n",
    "grid_params_xgb = [{'clf__booster': ['gbtree', 'gblinear','dart'],\r\n",
    "\t\t'clf__learning_rate': [100, 10, 1.0, 0.1, 0.01],\r\n",
    "\t\t'clf__n_estimators': [10, 25, 50, 100, 250],\r\n",
    "\t\t'clf__eval_metric': ['logloss','auc']}]\r\n"
   ],
   "outputs": [],
   "metadata": {}
  },
  {
   "cell_type": "code",
   "execution_count": 37,
   "source": [
    "#Definisi GridSearchCV untuk masing-masing model\r\n",
    "gs_lr = GridSearchCV(estimator=pipe_lr,\r\n",
    "\t\t\tparam_grid=grid_params_lr,\r\n",
    "\t\t\tscoring='f1',\r\n",
    "\t\t\tcv=10) \r\n",
    "gs_rf = GridSearchCV(estimator=pipe_rf,\r\n",
    "\t\t\tparam_grid=grid_params_rf,\r\n",
    "\t\t\tscoring='f1',\r\n",
    "\t\t\tcv=10)\r\n",
    "gs_svm = GridSearchCV(estimator=pipe_svm,\r\n",
    "\t\t\tparam_grid=grid_params_svm,\r\n",
    "\t\t\tscoring='f1',\r\n",
    "\t\t\tcv=10)\r\n",
    "gs_dt = GridSearchCV(estimator=pipe_dt,\r\n",
    "\t\t\tparam_grid=grid_params_dt,\r\n",
    "\t\t\tscoring='f1',\r\n",
    "\t\t\tcv=10)\r\n",
    "gs_knn = GridSearchCV(estimator=pipe_knn,\r\n",
    "\t\t\tparam_grid=grid_params_knn,\r\n",
    "\t\t\tscoring='f1',\r\n",
    "\t\t\tcv=10)\r\n",
    "gs_gb = GridSearchCV(estimator=pipe_gb,\r\n",
    "\t\t\tparam_grid=grid_params_gb,\r\n",
    "\t\t\tscoring='f1',\r\n",
    "\t\t\tcv=10)\r\n",
    "gs_xgb = GridSearchCV(estimator=pipe_xgb,\r\n",
    "\t\t\tparam_grid=grid_params_xgb,\r\n",
    "\t\t\tscoring='f1',\r\n",
    "\t\t\tcv=10)\r\n",
    "\r\n",
    "grids = [gs_lr, gs_rf, gs_svm,gs_dt,gs_knn,gs_gb,gs_xgb]\r\n"
   ],
   "outputs": [],
   "metadata": {}
  },
  {
   "cell_type": "code",
   "execution_count": 38,
   "source": [
    "grid_dict = {0: 'Logistic Regression', 1: 'Random Forest', \r\n",
    "\t\t2: 'Support Vector Machine', 3: 'Decision Tree', 4: 'K Nearest Neighbors',5:'Gradient Boosting',6:'XGBoost'}"
   ],
   "outputs": [],
   "metadata": {}
  },
  {
   "cell_type": "markdown",
   "source": [
    "Pada definisi gridsearchcv, kami memilih jenis score yang ingin kami optimalkan adalah nilai f1 score, dikarenakan kami ingin menemukan perpaduan antara nilai precision dan recall yang optimal </br>"
   ],
   "metadata": {}
  },
  {
   "cell_type": "markdown",
   "source": [
    "## viii. Model Training\r\n",
    "Model training akan dilakukan sekaligus dengan hyperparameter tuning untuk memilih mana model dan hyperparameter yang terbaik."
   ],
   "metadata": {}
  },
  {
   "cell_type": "code",
   "execution_count": 39,
   "source": [
    "#Model training sekaligus dengan hyperparameter tuning dengan menggunakan gridsearchcv\r\n",
    "print('Performing model optimizations...')\r\n",
    "best_acc = 0.0\r\n",
    "best_clf = 0\r\n",
    "best_gs = ''\r\n",
    "for idx, gs in enumerate(grids):\r\n",
    "\tprint('\\nEstimator: %s' % grid_dict[idx])\t\r\n",
    "\t# Fit grid search\t\r\n",
    "\tgs.fit(X_train, y_train)\r\n",
    "\t# Best params\r\n",
    "\tprint('Best params: %s' % gs.best_params_)\r\n",
    "\t# Best training data accuracy\r\n",
    "\tprint('Best training accuracy: %.3f' % gs.best_score_)\r\n",
    "\t# Predict on test data with best params\r\n",
    "\ty_pred = gs.predict(X_test)\r\n",
    "\t# Test data accuracy of model with best params\r\n",
    "\tprint('Test set F1 score for best params: %.3f ' % f1_score(y_test, y_pred))\r\n",
    "\t# Track best (highest test accuracy) model\r\n",
    "\tif accuracy_score(y_test, y_pred) > best_acc:\r\n",
    "\t\tbest_acc = accuracy_score(y_test, y_pred)\r\n",
    "\t\tbest_gs = gs\r\n",
    "\t\tbest_clf = idx\r\n",
    "print('\\nClassifier with best test set accuracy: %s' % grid_dict[best_clf])"
   ],
   "outputs": [
    {
     "output_type": "stream",
     "name": "stdout",
     "text": [
      "Performing model optimizations...\n",
      "\n",
      "Estimator: Logistic Regression\n",
      "Best params: {'clf__C': 100, 'clf__penalty': 'l2', 'clf__solver': 'newton-cg'}\n",
      "Best training accuracy: 0.874\n",
      "Test set F1 score for best params: 0.895 \n",
      "\n",
      "Estimator: Random Forest\n",
      "Best params: {'clf__criterion': 'gini', 'clf__max_features': 'auto', 'clf__n_estimators': 50}\n",
      "Best training accuracy: 0.838\n",
      "Test set F1 score for best params: 0.867 \n",
      "\n",
      "Estimator: Support Vector Machine\n",
      "Best params: {'clf__C': 100, 'clf__kernel': 'linear'}\n",
      "Best training accuracy: 0.873\n",
      "Test set F1 score for best params: 0.895 \n",
      "\n",
      "Estimator: Decision Tree\n",
      "Best params: {'clf__criterion': 'gini', 'clf__max_features': 'auto', 'clf__splitter': 'random'}\n",
      "Best training accuracy: 0.797\n",
      "Test set F1 score for best params: 0.771 \n",
      "\n",
      "Estimator: K Nearest Neighbors\n",
      "Best params: {'clf__algorithm': 'auto', 'clf__n_neighbors': 10, 'clf__weights': 'uniform'}\n",
      "Best training accuracy: 0.839\n",
      "Test set F1 score for best params: 0.852 \n",
      "\n",
      "Estimator: Gradient Boosting\n",
      "Best params: {'clf__learning_rate': 0.1, 'clf__loss': 'exponential', 'clf__max_features': 'log2', 'clf__n_estimators': 25}\n",
      "Best training accuracy: 0.874\n",
      "Test set F1 score for best params: 0.895 \n",
      "\n",
      "Estimator: XGBoost\n",
      "Best params: {'clf__booster': 'gblinear', 'clf__eval_metric': 'logloss', 'clf__learning_rate': 1.0, 'clf__n_estimators': 10}\n",
      "Best training accuracy: 0.874\n",
      "Test set F1 score for best params: 0.895 \n",
      "\n",
      "Classifier with best test set accuracy: Logistic Regression\n"
     ]
    }
   ],
   "metadata": {}
  },
  {
   "cell_type": "markdown",
   "source": [
    "Dari hasil training beberapa model diatas, didapatkan hasil bahwa model yang dipilih yaitu model dengan nilai akurasi dan f1 score tertinggi adalah model Logistic Regression. </br>\r\n",
    "Parameter yang paling baik dari model logistic regression yang dipilih adalah :</br>\r\n",
    "1. Nilai C = 100\r\n",
    "2. Penalty = l2\r\n",
    "3. Solver = newton-cg"
   ],
   "metadata": {}
  },
  {
   "cell_type": "markdown",
   "source": [
    "## ix. Model Evaluation"
   ],
   "metadata": {}
  },
  {
   "cell_type": "code",
   "execution_count": 40,
   "source": [
    "#Prediksi target berdasarkan model yang dipilih\r\n",
    "y_pred = best_gs.predict(X_test)"
   ],
   "outputs": [],
   "metadata": {}
  },
  {
   "cell_type": "code",
   "execution_count": 41,
   "source": [
    "#Perbandingan hasil nilai y aktual dengan nilai y hasil prediksi model logistic regression\r\n",
    "predicted = pd.DataFrame({'Actual': y_test,'Predicted': y_pred})\r\n",
    "predicted.value_counts()"
   ],
   "outputs": [
    {
     "output_type": "execute_result",
     "data": {
      "text/plain": [
       "Actual  Predicted\n",
       "1       1            68\n",
       "0       0            16\n",
       "        1            15\n",
       "1       0             1\n",
       "dtype: int64"
      ]
     },
     "metadata": {},
     "execution_count": 41
    }
   ],
   "metadata": {}
  },
  {
   "cell_type": "code",
   "execution_count": 42,
   "source": [
    "#Pembuatan confusion matrix\r\n",
    "cm = confusion_matrix(y_test, y_pred)\r\n",
    "print('Confusion matrix\\n\\n', cm)"
   ],
   "outputs": [
    {
     "output_type": "stream",
     "name": "stdout",
     "text": [
      "Confusion matrix\n",
      "\n",
      " [[16 15]\n",
      " [ 1 68]]\n"
     ]
    }
   ],
   "metadata": {}
  },
  {
   "cell_type": "code",
   "execution_count": 43,
   "source": [
    "#Perhitungan kategori dalam confusion matrix\r\n",
    "tp = cm[1,1]\r\n",
    "tn = cm[0,0]\r\n",
    "fp = cm[0,1]\r\n",
    "fn = cm[1,0]\r\n",
    "\r\n",
    "print('True Positives(TP) = ', tp)\r\n",
    "print('True Negatives(TN) = ', tn)\r\n",
    "print('False Positives(FP) = ', fp)\r\n",
    "print('False Negatives(FN) = ', fn)"
   ],
   "outputs": [
    {
     "output_type": "stream",
     "name": "stdout",
     "text": [
      "True Positives(TP) =  68\n",
      "True Negatives(TN) =  16\n",
      "False Positives(FP) =  15\n",
      "False Negatives(FN) =  1\n"
     ]
    }
   ],
   "metadata": {}
  },
  {
   "cell_type": "code",
   "execution_count": 44,
   "source": [
    "# Perhitungan evaluation metrics\r\n",
    "accu = (tp+tn)/(tp+tn+fp+fn)\r\n",
    "misclass = (fn+fp)/(tp+tn+fp+fn)\r\n",
    "precis = tp/(tp+fp)\r\n",
    "sensi = tp/(tp+fn)\r\n",
    "speci = tn/(tn+fp)\r\n",
    "f1 = 2 * (precis*sensi) / (precis+sensi)\r\n",
    "\r\n",
    "\r\n",
    "print('Accuracy is ',accu)\r\n",
    "print('Misclassification is ',misclass)\r\n",
    "print('Precision is ',precis)\r\n",
    "print('Sensitivity is ',sensi)\r\n",
    "print('Specificity is',speci)\r\n",
    "print('F-1 Score is ',f1)\r\n"
   ],
   "outputs": [
    {
     "output_type": "stream",
     "name": "stdout",
     "text": [
      "Accuracy is  0.84\n",
      "Misclassification is  0.16\n",
      "Precision is  0.8192771084337349\n",
      "Sensitivity is  0.9855072463768116\n",
      "Specificity is 0.5161290322580645\n",
      "F-1 Score is  0.8947368421052633\n"
     ]
    }
   ],
   "metadata": {}
  },
  {
   "cell_type": "code",
   "execution_count": 45,
   "source": [
    "#Print Classification Report\r\n",
    "print(classification_report(y_test,y_pred))"
   ],
   "outputs": [
    {
     "output_type": "stream",
     "name": "stdout",
     "text": [
      "              precision    recall  f1-score   support\n",
      "\n",
      "           0       0.94      0.52      0.67        31\n",
      "           1       0.82      0.99      0.89        69\n",
      "\n",
      "    accuracy                           0.84       100\n",
      "   macro avg       0.88      0.75      0.78       100\n",
      "weighted avg       0.86      0.84      0.82       100\n",
      "\n"
     ]
    }
   ],
   "metadata": {}
  },
  {
   "cell_type": "markdown",
   "source": [
    "Dari hasil evaluasi, didapatkan hasil: </br>\r\n",
    "1. Nilai Akurasi sebesar 84% yang berarti dari total data yang ada, model ini memprediksi 84% data yang benar positif maupun benar negatif\r\n",
    "2. Nilai Misclassification 16% yang berarti dari total data yang ada, model ini memprediksi 16% data yang salah positif maupun salah negatif\r\n",
    "3. Nilai Precision sebesar 82% yang berarti dari total data yang diprediksi positif, terdapat 82% data yang benar positif\r\n",
    "4. Nilai Sensitivity / Recall sebesar 99% yang berarti dari total data yang sebenarnya positif, model ini memprediksi 99% data yang benar positif\r\n",
    "5. Nilai Specificity sebesar 52% yang berarti dari total data yang sebenarnya negatif, model ini memprediksi 52% data yang benar negatif\r\n",
    "6. Nilai F1 Score sebesar 89% yang berarti rata-rata nilai precision dan recall adalah sebesar 89%\r\n",
    "\r\n",
    "Dikarenakan model diatas memiliki nilai Akurasi, Precision, Recall dan F1 Score yang tinggi, maka dapat dikatakan bahwa model tersebut sudah cukup bagus dalam memprediksi approval dari data pengajuan pinjaman ini"
   ],
   "metadata": {}
  },
  {
   "cell_type": "markdown",
   "source": [
    "## x. Model Saving"
   ],
   "metadata": {}
  },
  {
   "cell_type": "code",
   "execution_count": 46,
   "source": [
    "#Proses Saving Model\r\n",
    "pickle.dump(best_gs,open('mls2model.pkl','wb'))"
   ],
   "outputs": [],
   "metadata": {}
  },
  {
   "cell_type": "code",
   "execution_count": 47,
   "source": [
    "#Proses Saving dari encoder one hot encoding\r\n",
    "joblib.dump(ohe, 'encoder.joblib')\r\n"
   ],
   "outputs": [
    {
     "output_type": "execute_result",
     "data": {
      "text/plain": [
       "['encoder.joblib']"
      ]
     },
     "metadata": {},
     "execution_count": 47
    }
   ],
   "metadata": {}
  },
  {
   "cell_type": "markdown",
   "source": [
    "## xi. Model Inference"
   ],
   "metadata": {}
  },
  {
   "cell_type": "code",
   "execution_count": 48,
   "source": [
    "#Proses Pembuatan Data Sample\r\n",
    "sampledf= df_cleaned.sample(n=100).reset_index()\r\n",
    "sampledf.head()"
   ],
   "outputs": [
    {
     "output_type": "execute_result",
     "data": {
      "text/html": [
       "<div>\n",
       "<style scoped>\n",
       "    .dataframe tbody tr th:only-of-type {\n",
       "        vertical-align: middle;\n",
       "    }\n",
       "\n",
       "    .dataframe tbody tr th {\n",
       "        vertical-align: top;\n",
       "    }\n",
       "\n",
       "    .dataframe thead th {\n",
       "        text-align: right;\n",
       "    }\n",
       "</style>\n",
       "<table border=\"1\" class=\"dataframe\">\n",
       "  <thead>\n",
       "    <tr style=\"text-align: right;\">\n",
       "      <th></th>\n",
       "      <th>index</th>\n",
       "      <th>Gender</th>\n",
       "      <th>Married</th>\n",
       "      <th>Dependents</th>\n",
       "      <th>Education</th>\n",
       "      <th>Self_Employed</th>\n",
       "      <th>ApplicantIncome</th>\n",
       "      <th>CoapplicantIncome</th>\n",
       "      <th>LoanAmount</th>\n",
       "      <th>Loan_Amount_Term</th>\n",
       "      <th>Credit_History</th>\n",
       "      <th>Property_Area</th>\n",
       "      <th>Loan_Status</th>\n",
       "      <th>Total_Income</th>\n",
       "    </tr>\n",
       "  </thead>\n",
       "  <tbody>\n",
       "    <tr>\n",
       "      <th>0</th>\n",
       "      <td>409</td>\n",
       "      <td>Male</td>\n",
       "      <td>Yes</td>\n",
       "      <td>3</td>\n",
       "      <td>Graduate</td>\n",
       "      <td>No</td>\n",
       "      <td>81000</td>\n",
       "      <td>0.00000</td>\n",
       "      <td>360.00000</td>\n",
       "      <td>360.00000</td>\n",
       "      <td>0.00000</td>\n",
       "      <td>Rural</td>\n",
       "      <td>N</td>\n",
       "      <td>81000.00000</td>\n",
       "    </tr>\n",
       "    <tr>\n",
       "      <th>1</th>\n",
       "      <td>380</td>\n",
       "      <td>Male</td>\n",
       "      <td>Yes</td>\n",
       "      <td>0</td>\n",
       "      <td>Graduate</td>\n",
       "      <td>No</td>\n",
       "      <td>3333</td>\n",
       "      <td>2500.00000</td>\n",
       "      <td>128.00000</td>\n",
       "      <td>360.00000</td>\n",
       "      <td>1.00000</td>\n",
       "      <td>Semiurban</td>\n",
       "      <td>Y</td>\n",
       "      <td>5833.00000</td>\n",
       "    </tr>\n",
       "    <tr>\n",
       "      <th>2</th>\n",
       "      <td>373</td>\n",
       "      <td>Male</td>\n",
       "      <td>No</td>\n",
       "      <td>1</td>\n",
       "      <td>Graduate</td>\n",
       "      <td>No</td>\n",
       "      <td>3062</td>\n",
       "      <td>1987.00000</td>\n",
       "      <td>111.00000</td>\n",
       "      <td>180.00000</td>\n",
       "      <td>0.00000</td>\n",
       "      <td>Urban</td>\n",
       "      <td>N</td>\n",
       "      <td>5049.00000</td>\n",
       "    </tr>\n",
       "    <tr>\n",
       "      <th>3</th>\n",
       "      <td>223</td>\n",
       "      <td>Male</td>\n",
       "      <td>Yes</td>\n",
       "      <td>0</td>\n",
       "      <td>Graduate</td>\n",
       "      <td>No</td>\n",
       "      <td>7578</td>\n",
       "      <td>1010.00000</td>\n",
       "      <td>175.00000</td>\n",
       "      <td>360.00000</td>\n",
       "      <td>1.00000</td>\n",
       "      <td>Semiurban</td>\n",
       "      <td>Y</td>\n",
       "      <td>8588.00000</td>\n",
       "    </tr>\n",
       "    <tr>\n",
       "      <th>4</th>\n",
       "      <td>301</td>\n",
       "      <td>Male</td>\n",
       "      <td>Yes</td>\n",
       "      <td>0</td>\n",
       "      <td>Not Graduate</td>\n",
       "      <td>No</td>\n",
       "      <td>2875</td>\n",
       "      <td>1750.00000</td>\n",
       "      <td>105.00000</td>\n",
       "      <td>360.00000</td>\n",
       "      <td>1.00000</td>\n",
       "      <td>Semiurban</td>\n",
       "      <td>Y</td>\n",
       "      <td>4625.00000</td>\n",
       "    </tr>\n",
       "  </tbody>\n",
       "</table>\n",
       "</div>"
      ],
      "text/plain": [
       "   index Gender Married  Dependents     Education Self_Employed  \\\n",
       "0    409   Male     Yes           3      Graduate            No   \n",
       "1    380   Male     Yes           0      Graduate            No   \n",
       "2    373   Male      No           1      Graduate            No   \n",
       "3    223   Male     Yes           0      Graduate            No   \n",
       "4    301   Male     Yes           0  Not Graduate            No   \n",
       "\n",
       "   ApplicantIncome  CoapplicantIncome  LoanAmount  Loan_Amount_Term  \\\n",
       "0            81000            0.00000   360.00000         360.00000   \n",
       "1             3333         2500.00000   128.00000         360.00000   \n",
       "2             3062         1987.00000   111.00000         180.00000   \n",
       "3             7578         1010.00000   175.00000         360.00000   \n",
       "4             2875         1750.00000   105.00000         360.00000   \n",
       "\n",
       "   Credit_History Property_Area Loan_Status  Total_Income  \n",
       "0         0.00000         Rural           N   81000.00000  \n",
       "1         1.00000     Semiurban           Y    5833.00000  \n",
       "2         0.00000         Urban           N    5049.00000  \n",
       "3         1.00000     Semiurban           Y    8588.00000  \n",
       "4         1.00000     Semiurban           Y    4625.00000  "
      ]
     },
     "metadata": {},
     "execution_count": 48
    }
   ],
   "metadata": {}
  },
  {
   "cell_type": "code",
   "execution_count": 49,
   "source": [
    "#Ubah feature Loan Status dari Yes/No menjadi 1-0\r\n",
    "sampledf.Loan_Status= sampledf.Loan_Status.map(dict(Y=1, N=0))\r\n",
    "#Hapus kolom ApplicantIncome dan Coapplicant Income\r\n",
    "sampledf.drop(columns=['ApplicantIncome','CoapplicantIncome'], inplace=True)\r\n",
    "#Hapus kolom index\r\n",
    "sampledf.drop(columns=['index'], inplace=True)\r\n"
   ],
   "outputs": [],
   "metadata": {}
  },
  {
   "cell_type": "code",
   "execution_count": 50,
   "source": [
    "#Encode data sample\r\n",
    "sample_ohe = ohe.transform(sampledf[categorical_cols])\r\n",
    "\r\n",
    "#Create a Pandas DataFrame of the hot encoded column\r\n",
    "sample_ohe_df = pd.DataFrame(sample_ohe, columns = ohe.get_feature_names(input_features = categorical_cols))\r\n",
    "\r\n",
    "#concat with original data and drop original columns\r\n",
    "sampleencoded = pd.concat([sampledf, sample_ohe_df], axis=1).drop(columns = categorical_cols, axis=1)\r\n"
   ],
   "outputs": [],
   "metadata": {}
  },
  {
   "cell_type": "code",
   "execution_count": 51,
   "source": [
    "sampleencoded"
   ],
   "outputs": [
    {
     "output_type": "execute_result",
     "data": {
      "text/html": [
       "<div>\n",
       "<style scoped>\n",
       "    .dataframe tbody tr th:only-of-type {\n",
       "        vertical-align: middle;\n",
       "    }\n",
       "\n",
       "    .dataframe tbody tr th {\n",
       "        vertical-align: top;\n",
       "    }\n",
       "\n",
       "    .dataframe thead th {\n",
       "        text-align: right;\n",
       "    }\n",
       "</style>\n",
       "<table border=\"1\" class=\"dataframe\">\n",
       "  <thead>\n",
       "    <tr style=\"text-align: right;\">\n",
       "      <th></th>\n",
       "      <th>Dependents</th>\n",
       "      <th>LoanAmount</th>\n",
       "      <th>Loan_Amount_Term</th>\n",
       "      <th>Credit_History</th>\n",
       "      <th>Loan_Status</th>\n",
       "      <th>Total_Income</th>\n",
       "      <th>Gender_Female</th>\n",
       "      <th>Gender_Male</th>\n",
       "      <th>Married_No</th>\n",
       "      <th>Married_Yes</th>\n",
       "      <th>Education_Graduate</th>\n",
       "      <th>Education_Not Graduate</th>\n",
       "      <th>Self_Employed_No</th>\n",
       "      <th>Self_Employed_Yes</th>\n",
       "      <th>Property_Area_Rural</th>\n",
       "      <th>Property_Area_Semiurban</th>\n",
       "      <th>Property_Area_Urban</th>\n",
       "    </tr>\n",
       "  </thead>\n",
       "  <tbody>\n",
       "    <tr>\n",
       "      <th>0</th>\n",
       "      <td>3</td>\n",
       "      <td>360.00000</td>\n",
       "      <td>360.00000</td>\n",
       "      <td>0.00000</td>\n",
       "      <td>0</td>\n",
       "      <td>81000.00000</td>\n",
       "      <td>0.00000</td>\n",
       "      <td>1.00000</td>\n",
       "      <td>0.00000</td>\n",
       "      <td>1.00000</td>\n",
       "      <td>1.00000</td>\n",
       "      <td>0.00000</td>\n",
       "      <td>1.00000</td>\n",
       "      <td>0.00000</td>\n",
       "      <td>1.00000</td>\n",
       "      <td>0.00000</td>\n",
       "      <td>0.00000</td>\n",
       "    </tr>\n",
       "    <tr>\n",
       "      <th>1</th>\n",
       "      <td>0</td>\n",
       "      <td>128.00000</td>\n",
       "      <td>360.00000</td>\n",
       "      <td>1.00000</td>\n",
       "      <td>1</td>\n",
       "      <td>5833.00000</td>\n",
       "      <td>0.00000</td>\n",
       "      <td>1.00000</td>\n",
       "      <td>0.00000</td>\n",
       "      <td>1.00000</td>\n",
       "      <td>1.00000</td>\n",
       "      <td>0.00000</td>\n",
       "      <td>1.00000</td>\n",
       "      <td>0.00000</td>\n",
       "      <td>0.00000</td>\n",
       "      <td>1.00000</td>\n",
       "      <td>0.00000</td>\n",
       "    </tr>\n",
       "    <tr>\n",
       "      <th>2</th>\n",
       "      <td>1</td>\n",
       "      <td>111.00000</td>\n",
       "      <td>180.00000</td>\n",
       "      <td>0.00000</td>\n",
       "      <td>0</td>\n",
       "      <td>5049.00000</td>\n",
       "      <td>0.00000</td>\n",
       "      <td>1.00000</td>\n",
       "      <td>1.00000</td>\n",
       "      <td>0.00000</td>\n",
       "      <td>1.00000</td>\n",
       "      <td>0.00000</td>\n",
       "      <td>1.00000</td>\n",
       "      <td>0.00000</td>\n",
       "      <td>0.00000</td>\n",
       "      <td>0.00000</td>\n",
       "      <td>1.00000</td>\n",
       "    </tr>\n",
       "    <tr>\n",
       "      <th>3</th>\n",
       "      <td>0</td>\n",
       "      <td>175.00000</td>\n",
       "      <td>360.00000</td>\n",
       "      <td>1.00000</td>\n",
       "      <td>1</td>\n",
       "      <td>8588.00000</td>\n",
       "      <td>0.00000</td>\n",
       "      <td>1.00000</td>\n",
       "      <td>0.00000</td>\n",
       "      <td>1.00000</td>\n",
       "      <td>1.00000</td>\n",
       "      <td>0.00000</td>\n",
       "      <td>1.00000</td>\n",
       "      <td>0.00000</td>\n",
       "      <td>0.00000</td>\n",
       "      <td>1.00000</td>\n",
       "      <td>0.00000</td>\n",
       "    </tr>\n",
       "    <tr>\n",
       "      <th>4</th>\n",
       "      <td>0</td>\n",
       "      <td>105.00000</td>\n",
       "      <td>360.00000</td>\n",
       "      <td>1.00000</td>\n",
       "      <td>1</td>\n",
       "      <td>4625.00000</td>\n",
       "      <td>0.00000</td>\n",
       "      <td>1.00000</td>\n",
       "      <td>0.00000</td>\n",
       "      <td>1.00000</td>\n",
       "      <td>0.00000</td>\n",
       "      <td>1.00000</td>\n",
       "      <td>1.00000</td>\n",
       "      <td>0.00000</td>\n",
       "      <td>0.00000</td>\n",
       "      <td>1.00000</td>\n",
       "      <td>0.00000</td>\n",
       "    </tr>\n",
       "    <tr>\n",
       "      <th>...</th>\n",
       "      <td>...</td>\n",
       "      <td>...</td>\n",
       "      <td>...</td>\n",
       "      <td>...</td>\n",
       "      <td>...</td>\n",
       "      <td>...</td>\n",
       "      <td>...</td>\n",
       "      <td>...</td>\n",
       "      <td>...</td>\n",
       "      <td>...</td>\n",
       "      <td>...</td>\n",
       "      <td>...</td>\n",
       "      <td>...</td>\n",
       "      <td>...</td>\n",
       "      <td>...</td>\n",
       "      <td>...</td>\n",
       "      <td>...</td>\n",
       "    </tr>\n",
       "    <tr>\n",
       "      <th>95</th>\n",
       "      <td>0</td>\n",
       "      <td>570.00000</td>\n",
       "      <td>360.00000</td>\n",
       "      <td>1.00000</td>\n",
       "      <td>0</td>\n",
       "      <td>24996.00000</td>\n",
       "      <td>0.00000</td>\n",
       "      <td>1.00000</td>\n",
       "      <td>0.00000</td>\n",
       "      <td>1.00000</td>\n",
       "      <td>1.00000</td>\n",
       "      <td>0.00000</td>\n",
       "      <td>1.00000</td>\n",
       "      <td>0.00000</td>\n",
       "      <td>1.00000</td>\n",
       "      <td>0.00000</td>\n",
       "      <td>0.00000</td>\n",
       "    </tr>\n",
       "    <tr>\n",
       "      <th>96</th>\n",
       "      <td>1</td>\n",
       "      <td>104.00000</td>\n",
       "      <td>360.00000</td>\n",
       "      <td>1.00000</td>\n",
       "      <td>1</td>\n",
       "      <td>4545.00000</td>\n",
       "      <td>0.00000</td>\n",
       "      <td>1.00000</td>\n",
       "      <td>0.00000</td>\n",
       "      <td>1.00000</td>\n",
       "      <td>1.00000</td>\n",
       "      <td>0.00000</td>\n",
       "      <td>1.00000</td>\n",
       "      <td>0.00000</td>\n",
       "      <td>0.00000</td>\n",
       "      <td>1.00000</td>\n",
       "      <td>0.00000</td>\n",
       "    </tr>\n",
       "    <tr>\n",
       "      <th>97</th>\n",
       "      <td>0</td>\n",
       "      <td>135.00000</td>\n",
       "      <td>360.00000</td>\n",
       "      <td>1.00000</td>\n",
       "      <td>0</td>\n",
       "      <td>5566.00000</td>\n",
       "      <td>0.00000</td>\n",
       "      <td>1.00000</td>\n",
       "      <td>0.00000</td>\n",
       "      <td>1.00000</td>\n",
       "      <td>1.00000</td>\n",
       "      <td>0.00000</td>\n",
       "      <td>1.00000</td>\n",
       "      <td>0.00000</td>\n",
       "      <td>1.00000</td>\n",
       "      <td>0.00000</td>\n",
       "      <td>0.00000</td>\n",
       "    </tr>\n",
       "    <tr>\n",
       "      <th>98</th>\n",
       "      <td>0</td>\n",
       "      <td>165.00000</td>\n",
       "      <td>180.00000</td>\n",
       "      <td>0.00000</td>\n",
       "      <td>0</td>\n",
       "      <td>6058.00000</td>\n",
       "      <td>0.00000</td>\n",
       "      <td>1.00000</td>\n",
       "      <td>0.00000</td>\n",
       "      <td>1.00000</td>\n",
       "      <td>0.00000</td>\n",
       "      <td>1.00000</td>\n",
       "      <td>0.00000</td>\n",
       "      <td>1.00000</td>\n",
       "      <td>1.00000</td>\n",
       "      <td>0.00000</td>\n",
       "      <td>0.00000</td>\n",
       "    </tr>\n",
       "    <tr>\n",
       "      <th>99</th>\n",
       "      <td>0</td>\n",
       "      <td>107.00000</td>\n",
       "      <td>360.00000</td>\n",
       "      <td>1.00000</td>\n",
       "      <td>1</td>\n",
       "      <td>4300.00000</td>\n",
       "      <td>0.00000</td>\n",
       "      <td>1.00000</td>\n",
       "      <td>0.00000</td>\n",
       "      <td>1.00000</td>\n",
       "      <td>0.00000</td>\n",
       "      <td>1.00000</td>\n",
       "      <td>1.00000</td>\n",
       "      <td>0.00000</td>\n",
       "      <td>1.00000</td>\n",
       "      <td>0.00000</td>\n",
       "      <td>0.00000</td>\n",
       "    </tr>\n",
       "  </tbody>\n",
       "</table>\n",
       "<p>100 rows × 17 columns</p>\n",
       "</div>"
      ],
      "text/plain": [
       "    Dependents  LoanAmount  Loan_Amount_Term  Credit_History  Loan_Status  \\\n",
       "0            3   360.00000         360.00000         0.00000            0   \n",
       "1            0   128.00000         360.00000         1.00000            1   \n",
       "2            1   111.00000         180.00000         0.00000            0   \n",
       "3            0   175.00000         360.00000         1.00000            1   \n",
       "4            0   105.00000         360.00000         1.00000            1   \n",
       "..         ...         ...               ...             ...          ...   \n",
       "95           0   570.00000         360.00000         1.00000            0   \n",
       "96           1   104.00000         360.00000         1.00000            1   \n",
       "97           0   135.00000         360.00000         1.00000            0   \n",
       "98           0   165.00000         180.00000         0.00000            0   \n",
       "99           0   107.00000         360.00000         1.00000            1   \n",
       "\n",
       "    Total_Income  Gender_Female  Gender_Male  Married_No  Married_Yes  \\\n",
       "0    81000.00000        0.00000      1.00000     0.00000      1.00000   \n",
       "1     5833.00000        0.00000      1.00000     0.00000      1.00000   \n",
       "2     5049.00000        0.00000      1.00000     1.00000      0.00000   \n",
       "3     8588.00000        0.00000      1.00000     0.00000      1.00000   \n",
       "4     4625.00000        0.00000      1.00000     0.00000      1.00000   \n",
       "..           ...            ...          ...         ...          ...   \n",
       "95   24996.00000        0.00000      1.00000     0.00000      1.00000   \n",
       "96    4545.00000        0.00000      1.00000     0.00000      1.00000   \n",
       "97    5566.00000        0.00000      1.00000     0.00000      1.00000   \n",
       "98    6058.00000        0.00000      1.00000     0.00000      1.00000   \n",
       "99    4300.00000        0.00000      1.00000     0.00000      1.00000   \n",
       "\n",
       "    Education_Graduate  Education_Not Graduate  Self_Employed_No  \\\n",
       "0              1.00000                 0.00000           1.00000   \n",
       "1              1.00000                 0.00000           1.00000   \n",
       "2              1.00000                 0.00000           1.00000   \n",
       "3              1.00000                 0.00000           1.00000   \n",
       "4              0.00000                 1.00000           1.00000   \n",
       "..                 ...                     ...               ...   \n",
       "95             1.00000                 0.00000           1.00000   \n",
       "96             1.00000                 0.00000           1.00000   \n",
       "97             1.00000                 0.00000           1.00000   \n",
       "98             0.00000                 1.00000           0.00000   \n",
       "99             0.00000                 1.00000           1.00000   \n",
       "\n",
       "    Self_Employed_Yes  Property_Area_Rural  Property_Area_Semiurban  \\\n",
       "0             0.00000              1.00000                  0.00000   \n",
       "1             0.00000              0.00000                  1.00000   \n",
       "2             0.00000              0.00000                  0.00000   \n",
       "3             0.00000              0.00000                  1.00000   \n",
       "4             0.00000              0.00000                  1.00000   \n",
       "..                ...                  ...                      ...   \n",
       "95            0.00000              1.00000                  0.00000   \n",
       "96            0.00000              0.00000                  1.00000   \n",
       "97            0.00000              1.00000                  0.00000   \n",
       "98            1.00000              1.00000                  0.00000   \n",
       "99            0.00000              1.00000                  0.00000   \n",
       "\n",
       "    Property_Area_Urban  \n",
       "0               0.00000  \n",
       "1               0.00000  \n",
       "2               1.00000  \n",
       "3               0.00000  \n",
       "4               0.00000  \n",
       "..                  ...  \n",
       "95              0.00000  \n",
       "96              0.00000  \n",
       "97              0.00000  \n",
       "98              0.00000  \n",
       "99              0.00000  \n",
       "\n",
       "[100 rows x 17 columns]"
      ]
     },
     "metadata": {},
     "execution_count": 51
    }
   ],
   "metadata": {}
  },
  {
   "cell_type": "code",
   "execution_count": 52,
   "source": [
    "#Proses definisi X dan Y sample\r\n",
    "y_sample = sampleencoded['Loan_Status'].values\r\n",
    "X_sample = sampleencoded.drop(columns=['Loan_Status'],axis=1).values"
   ],
   "outputs": [],
   "metadata": {}
  },
  {
   "cell_type": "code",
   "execution_count": 53,
   "source": [
    "#Proses prediksi data sample menggunakan model yang dipilih\r\n",
    "y_pred_sample = best_gs.predict(X_sample)"
   ],
   "outputs": [],
   "metadata": {}
  },
  {
   "cell_type": "code",
   "execution_count": 54,
   "source": [
    "#Perbandingan hasil nilai y aktual dengan nilai y hasil prediksi model logistic regression\r\n",
    "predictedsample = pd.DataFrame({'Actual': y_sample,'Predicted': y_pred_sample})\r\n",
    "predictedsample.value_counts()"
   ],
   "outputs": [
    {
     "output_type": "execute_result",
     "data": {
      "text/plain": [
       "Actual  Predicted\n",
       "1       1            65\n",
       "0       0            19\n",
       "        1            14\n",
       "1       0             2\n",
       "dtype: int64"
      ]
     },
     "metadata": {},
     "execution_count": 54
    }
   ],
   "metadata": {}
  },
  {
   "cell_type": "code",
   "execution_count": 55,
   "source": [
    "#Pembuatan confusion matrix\r\n",
    "cmsample = confusion_matrix(y_sample, y_pred_sample)\r\n",
    "print('Confusion matrix\\n\\n', cmsample)\r\n",
    "\r\n",
    "#Perhitungan kategori dalam confusion matrix\r\n",
    "tpsample = cmsample[1,1]\r\n",
    "tnsample = cmsample[0,0]\r\n",
    "fpsample = cmsample[0,1]\r\n",
    "fnsample = cmsample[1,0]\r\n",
    "\r\n",
    "print('True Positives(TP) = ', tpsample)\r\n",
    "print('True Negatives(TN) = ', tnsample)\r\n",
    "print('False Positives(FP) = ', fpsample)\r\n",
    "print('False Negatives(FN) = ', fnsample)\r\n",
    "\r\n",
    "# Perhitungan evaluation metrics\r\n",
    "accusample = (tpsample+tnsample)/(tpsample+tnsample+fpsample+fnsample)\r\n",
    "misclasssample = (fnsample+fpsample)/(tpsample+tnsample+fpsample+fnsample)\r\n",
    "precissample = tpsample/(tpsample+fpsample)\r\n",
    "sensisample = tpsample/(tpsample+fnsample)\r\n",
    "specisample = tnsample/(tnsample+fpsample)\r\n",
    "f1sample = 2 * (precissample*sensisample) / (precissample+sensisample)\r\n",
    "\r\n",
    "\r\n",
    "print('Accuracy of Random Forest Tuned is ',accusample)\r\n",
    "print('Misclassification of Random Forest Tuned is ',misclasssample)\r\n",
    "print('Precision of Random Forest Tuned is ',precissample)\r\n",
    "print('Sensitivity of Random Forest Tuned is ',sensisample)\r\n",
    "print('Specificity of Random Forest Tuned is ',specisample)\r\n",
    "print('F-1 Score of Random Forest Tuned is ',f1sample)\r\n"
   ],
   "outputs": [
    {
     "output_type": "stream",
     "name": "stdout",
     "text": [
      "Confusion matrix\n",
      "\n",
      " [[19 14]\n",
      " [ 2 65]]\n",
      "True Positives(TP) =  65\n",
      "True Negatives(TN) =  19\n",
      "False Positives(FP) =  14\n",
      "False Negatives(FN) =  2\n",
      "Accuracy of Random Forest Tuned is  0.84\n",
      "Misclassification of Random Forest Tuned is  0.16\n",
      "Precision of Random Forest Tuned is  0.8227848101265823\n",
      "Sensitivity of Random Forest Tuned is  0.9701492537313433\n",
      "Specificity of Random Forest Tuned is  0.5757575757575758\n",
      "F-1 Score of Random Forest Tuned is  0.8904109589041096\n"
     ]
    }
   ],
   "metadata": {}
  },
  {
   "cell_type": "markdown",
   "source": [
    "Dalam melakukan model inference, kami mengambil data random sample dari data yang sudah di cleaning </br>\r\n",
    "Kemudian kami melakukan pada data sampel tersebut baru selanjutnya kami lakukan prediksi berdasarkan model yang sudah dipilih</br>\r\n",
    "Dan kemudian dapat kita lakukan evaluasi untuk sample data tersebut."
   ],
   "metadata": {}
  },
  {
   "cell_type": "markdown",
   "source": [
    "## xii. Kesimpulan"
   ],
   "metadata": {}
  },
  {
   "cell_type": "markdown",
   "source": [
    "1. Tujuan dari permodelan ini adalah untuk memprediksi approval dari pengajuan pinjaman\r\n",
    "2. Data yang digunakan adalah data pengajuan pinjaman konsumer\r\n",
    "3. Dari data cleaning tidak ditemukan adanya data duplikat, namun terdapat missing values yang kemudian kami lakukan imputasi.\r\n",
    "4. Dari data exploration, didapatkan insight: </br>\r\n",
    "    1. Dari keseluruhan data, terdapat 69% data yang mendapatkan pinjaman, dan sisanya sebesar 31.0% tidak mendapatkan pinjaman\r\n",
    "    2. Dari data Gender kami dapatkan insight bahwa:</br>\r\n",
    "        1. Sebagian besar peminjam memiliki Gender Pria\r\n",
    "        2. Rata-rata pengajuan pinjaman dengan peminjam yang memiliki Gender Wanita, lebih cenderung untuk ditolak daripada Pria\r\n",
    "    3. Dari data status perkawinan, kami dapatkan insight bahwa: </br>\r\n",
    "        1. Sebagian besar pengajuan pinjaman memiliki status perkawinan sudah menikah.\r\n",
    "        2. Pengajuan pinjaman dengan status belum menikah, lebih memiliki kecenderungan untuk ditolak daripada sudah menikah\r\n",
    "    4. Dari data dependents atau jumlah tanggungan, didapatkan insight: </br>\r\n",
    "        1. Sebagian besar pengajuan pinjaman belum memiliki tanggungan.\r\n",
    "        2. Pengajuan pinjaman dengan jumlah tanggungan 1 dan 3 lebih cenderung untuk ditolak dibandingkan dengan tanpa tanggungan atau 2 tanggungan\r\n",
    "    5. Dari data pendidikan, didapatkan insight: </br>\r\n",
    "        1. Sebagian besar pengajuan pinjaman memiliki pendidikan graduate.\r\n",
    "        2. Pengajuan pinjaman dengan pendidikan not graduate lebih cenderung untuk ditolak dibandingkan dengan graduate.\r\n",
    "    6. Dari data property area, didapatkan insight: </br>\r\n",
    "        1. Pengajuan pinjaman dengan area semi urban lebih banyak dibandingkan dengan area urban dan rural\r\n",
    "        2. Pengajuan pinjaman dengan area rural lebih cenderung untuk ditolak dibandingkan dengan area semiurban dan urban\r\n",
    "5. Pada data preprocessing kami melakukan encoding dengan one hot encoder dan kemudian kami definisikan x dan y serta kami lakukan train/test split\r\n",
    "6. Kami akan menggunakan Pipeline untuk melakukan scaling data dan untuk melakukan training data. </br>\r\n",
    "Kami juga akan sekaligus melakukan hyper parameter tuning dengan menggunakan GridSearchCV untuk mencari parameter terbaik dari model yang kami uji. </br>\r\n",
    "Terdapat 7 model yang akan kami lakukan pengujian yaitu: </br>\r\n",
    "    1. Logistic Regression\r\n",
    "    2. Support Vector Machine\r\n",
    "    3. Decision Tree\r\n",
    "    4. Random Forest\r\n",
    "    5. K Nearest Neighbors\r\n",
    "    6. Gradient Boosting\r\n",
    "    7. XGBoost\r\n",
    "7. Model training akan dilakukan sekaligus dengan hyperparameter tuning untuk memilih mana model dan hyperparameter yang terbaik.\r\n",
    "8. Dari hasil training beberapa model diatas, didapatkan hasil bahwa model yang dipilih yaitu model dengan nilai akurasi dan f1 score tertinggi adalah model Logistic Regression. </br>\r\n",
    "Parameter yang paling baik dari model logistic regression yang dipilih adalah :</br>\r\n",
    "    1. Nilai C = 100\r\n",
    "    2. Penalty = l2\r\n",
    "    3. Solver = newton-cg\r\n",
    "9. Dari hasil evaluasi, didapatkan hasil: </br>\r\n",
    "    1. Nilai Akurasi sebesar 84% yang berarti dari total data yang ada, model ini memprediksi 84% data yang benar positif maupun benar negatif\r\n",
    "    2. Nilai Misclassification 16% yang berarti dari total data yang ada, model ini memprediksi 16% data yang salah positif maupun salah negatif\r\n",
    "    3. Nilai Precision sebesar 82% yang berarti dari total data yang diprediksi positif, terdapat 82% data yang benar positif\r\n",
    "    4. Nilai Sensitivity / Recall sebesar 99% yang berarti dari total data yang sebenarnya positif, model ini memprediksi 99% data yang benar positif\r\n",
    "    5. Nilai Specificity sebesar 52% yang berarti dari total data yang sebenarnya negatif, model ini memprediksi 52% data yang benar negatif\r\n",
    "    6. Nilai F1 Score sebesar 89% yang berarti rata-rata nilai precision dan recall adalah sebesar 89%\r\n",
    "    7. Dikarenakan model diatas memiliki nilai Akurasi, Precision, Recall dan F1 Score yang tinggi, maka dapat dikatakan bahwa model tersebut sudah cukup bagus dalam memprediksi approval dari data pengajuan pinjaman ini\r\n",
    "10. Kami melakukan saving model serta encoder untuk selanjutnya dilakukan deployment.\r\n",
    "11. Dalam melakukan model inference, kami mengambil data random sample dari data yang sudah di cleaning </br>\r\n",
    "Kemudian kami melakukan pada data sampel tersebut baru selanjutnya kami lakukan prediksi berdasarkan model yang sudah dipilih</br>"
   ],
   "metadata": {}
  },
  {
   "cell_type": "markdown",
   "source": [
    "## Model Deployment\r\n",
    "Model ini kami deploy pada heroku dengan link https://darmawan-milestone2-project.herokuapp.com/predict\r\n"
   ],
   "metadata": {}
  }
 ],
 "metadata": {
  "orig_nbformat": 4,
  "language_info": {
   "name": "python",
   "version": "3.8.8",
   "mimetype": "text/x-python",
   "codemirror_mode": {
    "name": "ipython",
    "version": 3
   },
   "pygments_lexer": "ipython3",
   "nbconvert_exporter": "python",
   "file_extension": ".py"
  },
  "kernelspec": {
   "name": "python3",
   "display_name": "Python 3.8.8 64-bit ('base': conda)"
  },
  "interpreter": {
   "hash": "6f5a3333282cc3cade2967a8d6ad94d5be3d1b19105904835c796cab9a1eb63b"
  }
 },
 "nbformat": 4,
 "nbformat_minor": 2
}